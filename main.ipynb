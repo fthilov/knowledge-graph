{
 "cells": [
  {
   "cell_type": "markdown",
   "metadata": {},
   "source": [
    "## Overview\n",
    "\n",
    "This Jupyter Notebook automates the construction of a knowledge graph in a Neo4j database based on structured data provided in an Excel file. The process includes establishing a database connection, resetting the graph, reading and categorizing the Excel sheets, and then creating the corresponding nodes and relationships in the graph database. At the end, it also reports how long the entire operation took."
   ]
  },
  {
   "cell_type": "markdown",
   "metadata": {
    "tags": []
   },
   "source": [
    "### Connect to Neo4j\n",
    "\n",
    "This part of the script sets up the environment and prepares the data needed to build a knowledge graph in Neo4j. First, it imports all necessary libraries, including time for measuring execution duration, pandas for handling Excel data, and a set of helper functions defined elsewhere in the project. A timer is started to track the total runtime of the script. Then, a connection to the Neo4j database is established using the `init_connection()` function. After that, the script loads the Excel file `data/knowledge_graph.xlsx`, which contains the structured data that will be used to create the nodes and relationships of the knowledge graph."
   ]
  },
  {
   "cell_type": "code",
   "execution_count": null,
   "metadata": {
    "ExecuteTime": {
     "end_time": "2025-04-22T15:29:11.623414Z",
     "start_time": "2025-04-22T15:29:11.573127Z"
    }
   },
   "outputs": [],
   "source": [
    "# import necessary libraries\n",
    "import time\n",
    "import pandas as pd\n",
    "from helpers.helper_functions import init_connection, create_worksheet_lists, create_nodes, create_relationships, reset_db\n",
    "\n",
    "# set up timer for runtime of the script\n",
    "start_time = time.time()\n",
    "\n",
    "# initialize connection to the database\n",
    "graph = init_connection()\n",
    "\n",
    "# define source file path\n",
    "excel_file = pd.ExcelFile(\"data/knowledge_graph.xlsx\")"
   ]
  },
  {
   "cell_type": "markdown",
   "metadata": {},
   "source": [
    "### Reset Knowledge Graph\n",
    "The line `reset_db(graph=graph)` calls a helper function that completely clears the contents of the connected Neo4j database. This is done to ensure that no duplicate or outdated data remains before rebuilding the knowledge graph from scratch. It provides a clean starting point by removing all existing nodes and relationships, allowing the script to create a fresh and consistent graph structure based on the contents of the Excel file."
   ]
  },
  {
   "cell_type": "code",
   "execution_count": null,
   "metadata": {
    "ExecuteTime": {
     "end_time": "2025-04-22T15:29:11.696605Z",
     "start_time": "2025-04-22T15:29:11.669107Z"
    }
   },
   "outputs": [],
   "source": [
    "# call the function to reset the database\n",
    "reset_db(graph=graph)"
   ]
  },
  {
   "cell_type": "markdown",
   "metadata": {},
   "source": [
    "### Create Worksheet Lists\n",
    "\n",
    "This line calls the `create_worksheet_lists()` function, which processes the Excel file and separates its sheets into two categories: those containing node data and those containing relationship data. This distinction is necessary because nodes and relationships must be handled differently when importing them into Neo4j. The function returns two lists: node_worksheets for sheets defining nodes, and rel_worksheets for sheets defining relationships. These lists are then used in the following steps to build the graph structure accordingly."
   ]
  },
  {
   "cell_type": "code",
   "execution_count": null,
   "metadata": {
    "ExecuteTime": {
     "end_time": "2025-04-22T15:29:11.746027Z",
     "start_time": "2025-04-22T15:29:11.710322Z"
    }
   },
   "outputs": [],
   "source": [
    "# call function to create nodes and relationships and store them in variables\n",
    "node_worksheets, rel_worksheets = create_worksheet_lists(excel_file=excel_file)"
   ]
  },
  {
   "cell_type": "markdown",
   "metadata": {},
   "source": [
    "### Create Nodes\n",
    "This line calls the `create_nodes()` function, which reads the worksheets previously identified as containing node data and creates corresponding nodes in the Neo4j database. For each worksheet, it extracts the relevant data from the Excel file and uses it to define nodes with specific labels and properties. The function then inserts these nodes into the graph, building the basic entities of the knowledge graph structure."
   ]
  },
  {
   "cell_type": "code",
   "execution_count": null,
   "metadata": {
    "ExecuteTime": {
     "end_time": "2025-04-22T15:29:12.631639Z",
     "start_time": "2025-04-22T15:29:11.760458Z"
    }
   },
   "outputs": [],
   "source": [
    "# call function to create relationships\n",
    "create_nodes(worksheets=node_worksheets, excel_file=excel_file, graph=graph)"
   ]
  },
  {
   "cell_type": "markdown",
   "metadata": {},
   "source": [
    "### Create Relationships\n",
    "\n",
    "This line calls the `create_relationships()` function, which processes the worksheets identified as containing relationship data. For each worksheet, it reads the data from the Excel file and creates the corresponding relationships between existing nodes in the Neo4j database. Each relationship connects two node types based on the specified relationship type and properties defined in the Excel sheet. This step is essential for establishing meaningful connections between the entities previously added as nodes in the knowledge graph."
   ]
  },
  {
   "cell_type": "code",
   "execution_count": null,
   "metadata": {
    "ExecuteTime": {
     "end_time": "2025-04-22T15:29:15.414171Z",
     "start_time": "2025-04-22T15:29:12.642646Z"
    }
   },
   "outputs": [],
   "source": [
    "# call function to create relationships\n",
    "create_relationships(worksheets=rel_worksheets, excel_file=excel_file, graph=graph)"
   ]
  },
  {
   "cell_type": "markdown",
   "metadata": {},
   "source": [
    "### Knowledge Graph Visualization\n",
    "In the following screenshot you will see how the knowledge would look like in the Neo4j Browser. It's notable that the screenshot doesn't contain all nodes because Neo4j only shows the first 300 nodes in one query to avoid performance issues."
   ]
  },
  {
   "cell_type": "markdown",
   "metadata": {},
   "source": [
    "<img src=\"img/knowledge_graph.png\" height=700 />"
   ]
  },
  {
   "cell_type": "markdown",
   "metadata": {},
   "source": [
    "### Timestamp\n",
    "This block prints the timestamp indicating when the script was executed and displays the total runtime. It uses `time.strftime()` to format the current date and time in the `dd.mm.yyyy hh:mm:ss` format. Then it calculates the total execution time by subtracting the recorded start time from the current time. Finally, it prints the total runtime in seconds, giving the user insight into how long the entire knowledge graph generation process took to complete."
   ]
  },
  {
   "cell_type": "code",
   "execution_count": null,
   "metadata": {
    "ExecuteTime": {
     "end_time": "2025-04-22T15:29:15.428475Z",
     "start_time": "2025-04-22T15:29:15.426038Z"
    }
   },
   "outputs": [],
   "source": [
    "# print statement to print when the script was executed\n",
    "print(f\"This script was run on: {time.strftime('%d.%m.%Y %H:%M:%S')}\")\n",
    "\n",
    "# stop the runtime timer\n",
    "end_time = time.time()\n",
    "\n",
    "# calculate the total execution time\n",
    "total_time = end_time - start_time\n",
    "\n",
    "# print the total execution time\n",
    "print(f\"Total execution time: {total_time:.2f} seconds\")"
   ]
  }
 ],
 "metadata": {
  "kernelspec": {
   "display_name": "venv",
   "language": "python",
   "name": "python3"
  },
  "language_info": {
   "codemirror_mode": {
    "name": "ipython",
    "version": 3
   },
   "file_extension": ".py",
   "mimetype": "text/x-python",
   "name": "python",
   "nbconvert_exporter": "python",
   "pygments_lexer": "ipython3",
   "version": "3.13.1"
  }
 },
 "nbformat": 4,
 "nbformat_minor": 2
}
