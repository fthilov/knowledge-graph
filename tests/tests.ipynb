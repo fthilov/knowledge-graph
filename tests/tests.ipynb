{
 "cells": [
  {
   "cell_type": "markdown",
   "metadata": {},
   "source": [
    "# Tests\n",
    "In the following notebook there will be several tests about the source code and the usabilty of the Knowledge Graph. In first place it's required to import all necessary libraries and connect to the database."
   ]
  },
  {
   "cell_type": "code",
   "execution_count": null,
   "metadata": {},
   "outputs": [],
   "source": [
    "# importing necessary libraries\n",
    "import os\n",
    "import timeit\n",
    "import datetime as dt\n",
    "import pandas as pd\n",
    "from termcolor import colored\n",
    "from helpers.helper_functions import init_connection, excel_import, export_to_excel, test_query, reset_db\n",
    "\n",
    "# init connection to the neo4j database\n",
    "graph = init_connection()"
   ]
  },
  {
   "cell_type": "markdown",
   "metadata": {},
   "source": [
    "## Functional Tests"
   ]
  },
  {
   "cell_type": "markdown",
   "metadata": {},
   "source": [
    "### Test Creation of Knowledge Graph\n",
    "This test case checks if the Knowledge Graph got created successfully by validating the number of nodes and relationships."
   ]
  },
  {
   "cell_type": "code",
   "execution_count": null,
   "metadata": {},
   "outputs": [],
   "source": [
    "# query to get the number of nodes in the database\n",
    "query_node_count = \"\"\"\n",
    "MATCH (n)\n",
    "RETURN count(n) as node_count\n",
    "\"\"\"\n",
    "# run the query and get the data of the result\n",
    "node_result =  graph.run(query_node_count).data()\n",
    "# extract the number of nodes from the result\n",
    "number_of_nodes = node_result[0]['node_count']\n",
    "# assert the number of nodes is at least 1\n",
    "assert(number_of_nodes > 0)\n",
    "# print the number of nodes\n",
    "print(f\"Number of nodes in the database: {number_of_nodes}\")\n",
    "\n",
    "\n",
    "# query to get the number of relationships in the database\n",
    "query_node_count = \"\"\"\n",
    "MATCH ()-[r]->()\n",
    "RETURN count(r) as relationship_count\n",
    "\"\"\"\n",
    "# run the query and get the data of the result\n",
    "node_result = graph.run(query_node_count).data()\n",
    "# extract the number of relationships from the result\n",
    "number_of_rels = node_result[0]['relationship_count']\n",
    "# assert the number of relationships is at least 1\n",
    "assert(number_of_rels > 0)\n",
    "# print the number of relationships\n",
    "print(f\"Number of relationships in the database: {node_result[0]['relationship_count']}\")"
   ]
  },
  {
   "cell_type": "markdown",
   "metadata": {},
   "source": [
    "### Get all Doctors\n",
    "This query returns all doctors and tests if all nodes have a specialization attribute to be sure there are only doctor nodes returned."
   ]
  },
  {
   "cell_type": "code",
   "execution_count": null,
   "metadata": {},
   "outputs": [],
   "source": [
    "# query to get all Doctor nodes\n",
    "query_node_count = \"\"\"\n",
    "MATCH (d:Doctor)\n",
    "RETURN d.name as name, d.specialization as specialization, d.yearsOfExperience as years_of_experience, d.contactEmail as contact_email\n",
    "\"\"\"\n",
    "# run the query and get the data of the result\n",
    "node_result = graph.run(query_node_count).data()\n",
    "# extract the number of doctors from the result\n",
    "number_of_doctors = len(node_result)\n",
    "# assert that all doctors have a specialization to be sure that there are only doctors returned\n",
    "assert all(doctor['specialization'] for doctor in node_result), node_result\n",
    "# print the number of doctors\n",
    "print(f\"Number of doctors in the database: {number_of_doctors}\")\n",
    "# print the details of the doctors\n",
    "pd.DataFrame(node_result)"
   ]
  },
  {
   "cell_type": "markdown",
   "metadata": {},
   "source": [
    "### Test Export Functionality\n",
    "This test case checks if the export functionality works correctly. This is done by getting the number of files in the export directory. Afterwards run the export script and check subsequently if the number of files have increased."
   ]
  },
  {
   "cell_type": "code",
   "execution_count": null,
   "metadata": {},
   "outputs": [],
   "source": [
    "export_path = \"../data/export\"\n",
    "\n",
    "# number of files in export directory\n",
    "number_of_files = len(os.listdir(export_path))\n",
    "\n",
    "# define the current time for the filename\n",
    "current_time = dt.datetime.now().strftime(\"%Y-%m-%d_%H-%M-%S\")\n",
    "\n",
    "export_to_excel(current_time=current_time, graph=graph, export_path=export_path)\n",
    "\n",
    "# check if the number of files in the export directory has increased\n",
    "number_of_files_after = len(os.listdir(export_path))\n",
    "\n",
    "# assert that the number of files has increased by 1\n",
    "assert number_of_files_after - number_of_files == 1, \"Export failed: no new file created.\""
   ]
  },
  {
   "cell_type": "markdown",
   "metadata": {},
   "source": [
    "### Test Import Functionality\n",
    "This test case checks if the import functionality works correctly. This is done by getting the number of nodes and relationships. Afterwards run the import script and check subsequently if the number of nodes and relationships have increased. "
   ]
  },
  {
   "cell_type": "code",
   "execution_count": null,
   "metadata": {},
   "outputs": [],
   "source": [
    "# query to get the number of current nodes\n",
    "query_node_count = \"\"\"\n",
    "MATCH (n)\n",
    "RETURN count(n) as node_count\n",
    "\"\"\"\n",
    "# query to get the number of current relationships\n",
    "query_rel_count = \"\"\"\n",
    "MATCH ()-[r]->()\n",
    "RETURN count(r) as relationship_count\n",
    "\"\"\"\n",
    "\n",
    "# run the query and get the data of the result\n",
    "node_result = graph.run(query_node_count).data()\n",
    "# run the query and get the data of the result\n",
    "rel_result = graph.run(query_rel_count).data()\n",
    "\n",
    "# extract the number of nodes from the result\n",
    "number_of_nodes = node_result[0]['node_count']\n",
    "# extract the number of relationships from the result\n",
    "number_of_rels = rel_result[0]['relationship_count']\n",
    "\n",
    "# define the excel file path\n",
    "import_file = pd.ExcelFile(\"../data/import/import_data.xlsx\")\n",
    "\n",
    "# import the data from the excel file into the database\n",
    "excel_import(excel_file=import_file, graph=graph)\n",
    "\n",
    "# query to get the number of nodes after importing the data\n",
    "after_result = graph.run(query_node_count).data()\n",
    "# query to get the number of relationships after importing the data\n",
    "after_rel_result = graph.run(query_rel_count).data()\n",
    "\n",
    "# extract the number of nodes from the result\n",
    "after_number_of_nodes = after_result[0]['node_count']\n",
    "# extract the number of relationships from the result\n",
    "after_number_of_rels = after_rel_result[0]['relationship_count']\n",
    "\n",
    "# assert that the number of nodes has increased\n",
    "assert after_number_of_nodes > number_of_nodes, f\"Number of nodes before import: {number_of_nodes}, after import: {after_number_of_nodes}\"\n",
    "# assert that the number of relationships has increased\n",
    "assert after_number_of_rels > number_of_rels, f\"Number of relationships before import: {number_of_rels}, after import: {after_number_of_rels}\""
   ]
  },
  {
   "cell_type": "markdown",
   "metadata": {},
   "source": [
    "## Non-functional Tests - Usability Tests"
   ]
  },
  {
   "cell_type": "markdown",
   "metadata": {},
   "source": [
    "### Get all illnesses"
   ]
  },
  {
   "cell_type": "code",
   "execution_count": null,
   "metadata": {},
   "outputs": [],
   "source": [
    "# define query to get all illness nodes\n",
    "query_illness = \"\"\"\n",
    "MATCH (i:Illness)\n",
    "RETURN i.name as name, i.ICDCode as ICD_Code, i.description as description\n",
    "\"\"\"\n",
    "\n",
    "# time the query execution\n",
    "execution_time = timeit.timeit(\"graph.run(query_illness).data()\", number=100, globals=globals())\n",
    "# print the average execution time\n",
    "print(f\"Average execution time: {execution_time / 100} seconds\")\n",
    "\n",
    "# run the query and get the data of the result\n",
    "result = graph.run(query_illness).data()\n",
    "\n",
    "# print the details of the illness nodes\n",
    "pd.DataFrame(result)"
   ]
  },
  {
   "cell_type": "markdown",
   "metadata": {},
   "source": [
    "### Find all symptoms of a specific illness"
   ]
  },
  {
   "cell_type": "code",
   "execution_count": null,
   "metadata": {},
   "outputs": [],
   "source": [
    "# define query to get all symptoms of a specific illness\n",
    "query = \"\"\" \n",
    "MATCH (s:Symptom)-[r:SYMPTOM_OF]->(i:Illness) \n",
    "WHERE i.name = 'Migraine'\n",
    "RETURN s.name as symptom\n",
    "\"\"\"\n",
    "\n",
    "print(graph)\n",
    "\n",
    "test_query(query=query, graph=graph)"
   ]
  },
  {
   "cell_type": "markdown",
   "metadata": {},
   "source": [
    "### Find all doctors who treated patients with a specific illness"
   ]
  },
  {
   "cell_type": "code",
   "execution_count": null,
   "metadata": {},
   "outputs": [],
   "source": [
    "# define query to get all symptoms of a specific illness\n",
    "query = \"\"\" \n",
    "MATCH (d:Doctor)-[:TREATS]->(p:Patient)-[:HAS]->(i:Illness)\n",
    "WHERE i.name = 'Breast Cancer'\n",
    "RETURN DISTINCT d.name\n",
    "\"\"\"\n",
    "\n",
    "test_query(query=query, graph=graph)"
   ]
  },
  {
   "cell_type": "markdown",
   "metadata": {},
   "source": [
    "### List illnesses that share at least one symptom"
   ]
  },
  {
   "cell_type": "code",
   "execution_count": null,
   "metadata": {},
   "outputs": [],
   "source": [
    "# define query to get all symptoms of a specific illness\n",
    "query = \"\"\" \n",
    "MATCH (i1:Illness)<-[:SYMPTOM_OF]-(s:Symptom)-[:SYMPTOM_OF]->(i2:Illness)\n",
    "WHERE i1.name <> i2.name\n",
    "RETURN DISTINCT i1.name AS Illness1, i2.name AS Illness2, s.name AS SharedSymptom\n",
    "\"\"\"\n",
    "\n",
    "timeit.timeit(\"graph.run(query).data()\", number=100, globals=globals())\n",
    "print(f\"Average execution time: {execution_time / 100} seconds\")\n",
    "\n",
    "result = graph.run(query).data()\n",
    "pd.DataFrame(result)"
   ]
  },
  {
   "cell_type": "markdown",
   "metadata": {},
   "source": [
    "### Find patients allergic to drugs they were prescribed"
   ]
  },
  {
   "cell_type": "code",
   "execution_count": null,
   "metadata": {},
   "outputs": [],
   "source": [
    "# define query to get all symptoms of a specific illness\n",
    "query = \"\"\" \n",
    "MATCH (p:Patient)-[:TAKES]->(d:Drug),\n",
    "      (p)-[:HAS]->(a:Allergy)\n",
    "WHERE d.name = a.name\n",
    "RETURN p.name AS Patient, d.name AS ConflictMedicament\n",
    "\"\"\"\n",
    "\n",
    "timeit.timeit(\"graph.run(query).data()\", number=100, globals=globals())\n",
    "print(f\"Average execution time: {execution_time / 100} seconds\")\n",
    "\n",
    "result = graph.run(query).data()\n",
    "df = pd.DataFrame(result)\n",
    "\n",
    "if len(df) == 0:\n",
    "    print(\"Luckily, no patients have a conflict with their medication.\")\n",
    "else:\n",
    "    display(df)"
   ]
  },
  {
   "cell_type": "markdown",
   "metadata": {},
   "source": [
    "### Find the most common symptom accross all illnesses"
   ]
  },
  {
   "cell_type": "code",
   "execution_count": null,
   "metadata": {},
   "outputs": [],
   "source": [
    "# define query to get all symptoms of a specific illness\n",
    "query = \"\"\" \n",
    "MATCH (s:Symptom)-[:SYMPTOM_OF]->(:Illness)\n",
    "RETURN s.name, COUNT(*) AS Occurrence\n",
    "ORDER BY Occurrence DESC\n",
    "LIMIT 1\n",
    "\"\"\"\n",
    "\n",
    "timeit.timeit(\"graph.run(query).data()\", number=100, globals=globals())\n",
    "print(f\"Average execution time: {execution_time / 100} seconds\")\n",
    "\n",
    "result = graph.run(query).data()\n",
    "pd.DataFrame(result)"
   ]
  },
  {
   "cell_type": "markdown",
   "metadata": {},
   "source": [
    "## Restore database to original state"
   ]
  },
  {
   "cell_type": "code",
   "execution_count": null,
   "metadata": {},
   "outputs": [],
   "source": [
    "reset_db(graph=graph)\n",
    "\n",
    "file = pd.ExcelFile(f\"../data/export/export_{current_time}.xlsx\")\n",
    "\n",
    "excel_import(excel_file=file, graph=graph)\n",
    "\n",
    "# delete the export file\n",
    "os.remove(f\"../data/export/export_{current_time}.xlsx\")\n",
    "print(\"Export file deleted.\")\n",
    "print(colored(\"--- Tests completed successfully. ---\", \"green\"))"
   ]
  }
 ],
 "metadata": {
  "kernelspec": {
   "display_name": "venv",
   "language": "python",
   "name": "python3"
  },
  "language_info": {
   "codemirror_mode": {
    "name": "ipython",
    "version": 3
   },
   "file_extension": ".py",
   "mimetype": "text/x-python",
   "name": "python",
   "nbconvert_exporter": "python",
   "pygments_lexer": "ipython3",
   "version": "3.13.1"
  }
 },
 "nbformat": 4,
 "nbformat_minor": 2
}
