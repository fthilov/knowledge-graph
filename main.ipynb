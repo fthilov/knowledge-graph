{
 "cells": [
  {
   "cell_type": "markdown",
   "metadata": {},
   "source": [
    "### Connect to Neo4j"
   ]
  },
  {
   "cell_type": "code",
   "execution_count": 1,
   "metadata": {},
   "outputs": [
    {
     "name": "stdout",
     "output_type": "stream",
     "text": [
      "Connected to the database\n"
     ]
    }
   ],
   "source": [
    "# import necessary libraries\n",
    "import pandas as pd\n",
    "from helpers.helper_functions import init_connection, create_worksheet_lists, create_nodes, create_relationships\n",
    "\n",
    "# initialize connection to the database\n",
    "graph = init_connection()\n",
    "\n",
    "# define source file path\n",
    "source_file_path = pd.ExcelFile(\"data/knowledge_graph.xlsx\")"
   ]
  },
  {
   "cell_type": "markdown",
   "metadata": {},
   "source": [
    "### Reset Knowledge Graph\n",
    "To avoid duplicates in the database the database should be deleted entirely to get a complete new database without any data."
   ]
  },
  {
   "cell_type": "code",
   "execution_count": 2,
   "metadata": {},
   "outputs": [
    {
     "name": "stdout",
     "output_type": "stream",
     "text": [
      "Database reset complete. All nodes and relationships have been deleted.\n"
     ]
    }
   ],
   "source": [
    "# define query to delete all nodes and relationships\n",
    "reset_db_query = \"MATCH (n) DETACH DELETE n\"\n",
    "\n",
    "# run specified query\n",
    "graph.run(reset_db_query)\n",
    "\n",
    "# print confirmation message\n",
    "print(\"Database reset complete. All nodes and relationships have been deleted.\")"
   ]
  },
  {
   "cell_type": "markdown",
   "metadata": {},
   "source": [
    "### Create Worksheet Lists\n",
    "Before we can create the knowledge graph it is necessary to split the worksheets from the excel in Node worksheets and Relationship worksheets because they need to be handled in a different way."
   ]
  },
  {
   "cell_type": "code",
   "execution_count": 3,
   "metadata": {},
   "outputs": [
    {
     "name": "stdout",
     "output_type": "stream",
     "text": [
      "Node worksheets:  ['Doctor', 'Topic', 'SubTopic', 'Illness', 'Symptom', 'Cause', 'Treatment', 'Patient', 'Drug', 'Diagnosis', 'Hospital', 'Allergy', 'Insurance', 'Department']\n",
      "Relationship worksheets:  ['REL_Doctor', 'REL_Topic', 'REL_Illness', 'REL_Symptom', 'REL_Patient', 'REL_Hospital'] \n",
      "\n"
     ]
    }
   ],
   "source": [
    "# call function to create nodes and relationships and store them in variables\n",
    "node_worksheets, rel_worksheets = create_worksheet_lists(file_path=source_file_path)"
   ]
  },
  {
   "cell_type": "markdown",
   "metadata": {},
   "source": [
    "### Create Nodes\n",
    "To create all nodes we need to iterate over all node_worksheets we've just created and read the data of each worksheet. "
   ]
  },
  {
   "cell_type": "code",
   "execution_count": 4,
   "metadata": {},
   "outputs": [
    {
     "name": "stdout",
     "output_type": "stream",
     "text": [
      "Created 10 nodes with the label 'Doctor'\n",
      "Created 10 nodes with the label 'Topic'\n",
      "Created 20 nodes with the label 'SubTopic'\n",
      "Created 30 nodes with the label 'Illness'\n",
      "Created 55 nodes with the label 'Symptom'\n",
      "Created 55 nodes with the label 'Cause'\n",
      "Created 55 nodes with the label 'Treatment'\n",
      "Created 20 nodes with the label 'Patient'\n",
      "Created 60 nodes with the label 'Drug'\n",
      "Created 30 nodes with the label 'Diagnosis'\n",
      "Created 5 nodes with the label 'Hospital'\n",
      "Created 15 nodes with the label 'Allergy'\n",
      "Created 5 nodes with the label 'Insurance'\n",
      "Created 10 nodes with the label 'Department'\n",
      "All nodes have been created successfully. In total:  14  node types.\n",
      "\n"
     ]
    }
   ],
   "source": [
    "# call function to create relationships\n",
    "create_nodes(worksheets=node_worksheets, file_path=source_file_path, graph=graph)"
   ]
  },
  {
   "cell_type": "markdown",
   "metadata": {},
   "source": [
    "### Create Relationships\n",
    "To create all relationships we need to iterate over all rel_worksheets we've just created and read the data of each worksheet."
   ]
  },
  {
   "cell_type": "code",
   "execution_count": 5,
   "metadata": {},
   "outputs": [
    {
     "name": "stdout",
     "output_type": "stream",
     "text": [
      "Created 190 relationships from a 'Doctor' node\n",
      "Created 20 relationships from a 'Topic' node\n",
      "Created 150 relationships from a 'Illness' node\n",
      "Created 60 relationships from a 'Symptom' node\n",
      "Created 180 relationships from a 'Patient' node\n",
      "Created 10 relationships from a 'Hospital' node\n",
      "All relationships have been created successfully.\n",
      "\n"
     ]
    }
   ],
   "source": [
    "# call function to create relationships\n",
    "create_relationships(worksheets=rel_worksheets, file_path=source_file_path, graph=graph)"
   ]
  }
 ],
 "metadata": {
  "kernelspec": {
   "display_name": "venv",
   "language": "python",
   "name": "python3"
  },
  "language_info": {
   "codemirror_mode": {
    "name": "ipython",
    "version": 3
   },
   "file_extension": ".py",
   "mimetype": "text/x-python",
   "name": "python",
   "nbconvert_exporter": "python",
   "pygments_lexer": "ipython3",
   "version": "3.13.1"
  }
 },
 "nbformat": 4,
 "nbformat_minor": 2
}
