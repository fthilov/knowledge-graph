{
 "cells": [
  {
   "cell_type": "markdown",
   "metadata": {},
   "source": [
    "### Connect to Neo4j"
   ]
  },
  {
   "cell_type": "code",
   "metadata": {
    "ExecuteTime": {
     "end_time": "2025-04-22T13:11:06.305495Z",
     "start_time": "2025-04-22T13:11:06.275564Z"
    }
   },
   "source": [
    "# import necessary libraries\n",
    "import time\n",
    "import pandas as pd\n",
    "from helpers.helper_functions import init_connection, create_worksheet_lists, create_nodes, create_relationships, reset_db\n",
    "\n",
    "# initialize connection to the database\n",
    "graph = init_connection()\n",
    "\n",
    "# define source file path\n",
    "excel_file = pd.ExcelFile(\"data/knowledge_graph.xlsx\")"
   ],
   "outputs": [
    {
     "name": "stdout",
     "output_type": "stream",
     "text": [
      "Connected to the database\n"
     ]
    }
   ],
   "execution_count": 10
  },
  {
   "cell_type": "markdown",
   "metadata": {},
   "source": [
    "### Reset Knowledge Graph\n",
    "To avoid duplicates in the database the database should be deleted entirely to get a complete new database without any data."
   ]
  },
  {
   "cell_type": "code",
   "metadata": {
    "ExecuteTime": {
     "end_time": "2025-04-22T13:11:06.378033Z",
     "start_time": "2025-04-22T13:11:06.332885Z"
    }
   },
   "source": [
    "# call the function to reset the datbase\n",
    "reset_db(graph=graph)"
   ],
   "outputs": [
    {
     "name": "stdout",
     "output_type": "stream",
     "text": [
      "\u001B[32mDatabase reset completed\u001B[0m\n"
     ]
    }
   ],
   "execution_count": 11
  },
  {
   "cell_type": "markdown",
   "metadata": {},
   "source": [
    "### Create Worksheet Lists\n",
    "Before we can create the knowledge graph it is necessary to split the worksheets from the excel in Node worksheets and Relationship worksheets because they need to be handled in a different way."
   ]
  },
  {
   "cell_type": "code",
   "metadata": {
    "ExecuteTime": {
     "end_time": "2025-04-22T13:11:06.423371Z",
     "start_time": "2025-04-22T13:11:06.389836Z"
    }
   },
   "source": [
    "# call function to create nodes and relationships and store them in variables\n",
    "node_worksheets, rel_worksheets = create_worksheet_lists(excel_file=excel_file)"
   ],
   "outputs": [
    {
     "name": "stdout",
     "output_type": "stream",
     "text": [
      "Node worksheets:  ['Doctor', 'Topic', 'SubTopic', 'Illness', 'Symptom', 'Cause', 'Treatment', 'Patient', 'Drug', 'Diagnosis', 'Hospital', 'Allergy', 'Insurance', 'Department']\n",
      "Relationship worksheets:  ['REL_Doctor', 'REL_Topic', 'REL_Illness', 'REL_Symptom', 'REL_Patient', 'REL_Hospital'] \n",
      "\n"
     ]
    }
   ],
   "execution_count": 12
  },
  {
   "cell_type": "markdown",
   "metadata": {},
   "source": [
    "### Create Nodes\n",
    "To create all nodes we need to iterate over all node_worksheets we've just created and read the data of each worksheet. "
   ]
  },
  {
   "cell_type": "code",
   "metadata": {
    "ExecuteTime": {
     "end_time": "2025-04-22T13:11:07.135196Z",
     "start_time": "2025-04-22T13:11:06.433226Z"
    }
   },
   "source": [
    "# call function to create relationships\n",
    "create_nodes(worksheets=node_worksheets, excel_file=excel_file, graph=graph)"
   ],
   "outputs": [
    {
     "name": "stdout",
     "output_type": "stream",
     "text": [
      "Created 10 nodes with the label 'Doctor'\n",
      "Created 10 nodes with the label 'Topic'\n",
      "Created 20 nodes with the label 'SubTopic'\n",
      "Created 30 nodes with the label 'Illness'\n",
      "Created 55 nodes with the label 'Symptom'\n",
      "Created 55 nodes with the label 'Cause'\n",
      "Created 55 nodes with the label 'Treatment'\n",
      "Created 20 nodes with the label 'Patient'\n",
      "Created 60 nodes with the label 'Drug'\n",
      "Created 30 nodes with the label 'Diagnosis'\n",
      "Created 5 nodes with the label 'Hospital'\n",
      "Created 15 nodes with the label 'Allergy'\n",
      "Created 5 nodes with the label 'Insurance'\n",
      "Created 10 nodes with the label 'Department'\n",
      "\u001B[32mAll nodes have been created successfully. In total: 14 node types.\n",
      "\u001B[0m\n"
     ]
    }
   ],
   "execution_count": 13
  },
  {
   "cell_type": "markdown",
   "metadata": {},
   "source": [
    "### Create Relationships\n",
    "To create all relationships we need to iterate over all rel_worksheets we've just created and read the data of each worksheet."
   ]
  },
  {
   "cell_type": "code",
   "metadata": {
    "ExecuteTime": {
     "end_time": "2025-04-22T13:11:08.288794Z",
     "start_time": "2025-04-22T13:11:07.147859Z"
    }
   },
   "source": [
    "# call function to create relationships\n",
    "create_relationships(worksheets=rel_worksheets, excel_file=excel_file, graph=graph)"
   ],
   "outputs": [
    {
     "name": "stdout",
     "output_type": "stream",
     "text": [
      "Created 190 relationships from a 'Doctor' node\n",
      "Created 20 relationships from a 'Topic' node\n",
      "Created 150 relationships from a 'Illness' node\n",
      "Created 60 relationships from a 'Symptom' node\n",
      "Created 180 relationships from a 'Patient' node\n",
      "Created 10 relationships from a 'Hospital' node\n",
      "\u001B[32mAll relationships have been created successfully.\n",
      "\u001B[0m\n"
     ]
    }
   ],
   "execution_count": 14
  },
  {
   "cell_type": "markdown",
   "metadata": {},
   "source": [
    "### Timestamp\n",
    "Print the timestamp when the script was executed."
   ]
  },
  {
   "cell_type": "code",
   "metadata": {
    "ExecuteTime": {
     "end_time": "2025-04-22T13:11:08.296547Z",
     "start_time": "2025-04-22T13:11:08.294023Z"
    }
   },
   "source": [
    "# print statement to print when the script was executed\n",
    "print(f\"This script was run on: {time.strftime(\"%d.%m.%Y %H:%M:%S\")}\")"
   ],
   "outputs": [
    {
     "name": "stdout",
     "output_type": "stream",
     "text": [
      "This script was run on: 22.04.2025 15:11:08\n"
     ]
    }
   ],
   "execution_count": 15
  }
 ],
 "metadata": {
  "kernelspec": {
   "display_name": "venv",
   "language": "python",
   "name": "python3"
  },
  "language_info": {
   "codemirror_mode": {
    "name": "ipython",
    "version": 3
   },
   "file_extension": ".py",
   "mimetype": "text/x-python",
   "name": "python",
   "nbconvert_exporter": "python",
   "pygments_lexer": "ipython3",
   "version": "3.13.1"
  }
 },
 "nbformat": 4,
 "nbformat_minor": 2
}
