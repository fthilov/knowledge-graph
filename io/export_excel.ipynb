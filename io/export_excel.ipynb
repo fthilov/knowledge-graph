{
 "cells": [
  {
   "cell_type": "markdown",
   "metadata": {},
   "source": [
    "# Export to XLSX (Excel)"
   ]
  },
  {
   "cell_type": "code",
   "execution_count": 1,
   "metadata": {},
   "outputs": [
    {
     "name": "stdout",
     "output_type": "stream",
     "text": [
      "Connected to the database\n"
     ]
    }
   ],
   "source": [
    "# import necessary libraries\n",
    "import pandas as pd\n",
    "import datetime as dt\n",
    "from helpers.helper_functions import init_connection, get_all_labels\n",
    "\n",
    "# run the initialization notebook to connect to the neo4j database\n",
    "graph = init_connection()"
   ]
  },
  {
   "cell_type": "code",
   "execution_count": 4,
   "metadata": {},
   "outputs": [],
   "source": [
    "# define function to export data to Excel\n",
    "def export_to_excel():\n",
    "    current_time = dt.datetime.now().strftime(\"%Y-%m-%d_%H-%M-%S\")\n",
    "    # define the file path where the Excel file will be saved\n",
    "    file_path = f\"data/export/export_{current_time}.xlsx\"\n",
    "    # create a Pandas Excel writer using Openpyxl as the engine\n",
    "    writer = pd.ExcelWriter(file_path, engine='openpyxl')\n",
    "    # get all labels from the graph\n",
    "    labels = get_all_labels(graph=graph)\n",
    "\n",
    "    # iterate over all labels \n",
    "    for label in labels:\n",
    "        # retrieve all nodes with the current label\n",
    "        nodes_result = graph.run(f\"MATCH (n:{label}) RETURN properties(n) AS props\")\n",
    "        \n",
    "        rows = [record[\"props\"] for record in nodes_result]\n",
    "        if rows:  # only write if rows exists\n",
    "            # create a DataFrame from the nodes result\n",
    "            nodes_df = pd.DataFrame(rows)\n",
    "            # write the DataFrame to the Excel file\n",
    "            nodes_df.to_excel(writer, sheet_name=label[:31], index=False)  # Excel Sheet-Namen dürfen max 31 Zeichen haben\n",
    "\n",
    "        # retrieve all relationships for the current label\n",
    "        rels_result = graph.run(f\"MATCH (n:{label})-[r]->(m) RETURN n.name as start_node_name, LABELS(m)[0] as end_node_label, m.name as end_node_name, TYPE(r) as rel_type\")\n",
    "\n",
    "        # create a DataFrame from the relationships result\n",
    "        rels_df = pd.DataFrame(rels_result.data())\n",
    "\n",
    "        if not rels_df.empty:  # only create a worksheet if rels_df is not empty\n",
    "            rels_df.to_excel(writer, sheet_name=f\"REL_{label[:31]}\", index=False)\n",
    "    \n",
    "    # close the Pandas Excel writer and save the file\n",
    "    writer.close()\n",
    "\n",
    "    print(\"Export completed. File saved at:\", file_path)"
   ]
  },
  {
   "cell_type": "code",
   "execution_count": 5,
   "metadata": {},
   "outputs": [
    {
     "name": "stdout",
     "output_type": "stream",
     "text": [
      "Export completed. File saved at: data/export/xlsx/export_2025-04-16_14-41-21.xlsx\n"
     ]
    }
   ],
   "source": [
    "export_to_excel()"
   ]
  }
 ],
 "metadata": {
  "kernelspec": {
   "display_name": "venv",
   "language": "python",
   "name": "python3"
  },
  "language_info": {
   "codemirror_mode": {
    "name": "ipython",
    "version": 3
   },
   "file_extension": ".py",
   "mimetype": "text/x-python",
   "name": "python",
   "nbconvert_exporter": "python",
   "pygments_lexer": "ipython3",
   "version": "3.13.1"
  }
 },
 "nbformat": 4,
 "nbformat_minor": 2
}
