{
 "cells": [
  {
   "cell_type": "markdown",
   "metadata": {},
   "source": [
    "### Connect to Neo4j"
   ]
  },
  {
   "cell_type": "code",
   "metadata": {
    "ExecuteTime": {
     "end_time": "2025-04-22T14:18:35.644240Z",
     "start_time": "2025-04-22T14:18:35.582950Z"
    }
   },
   "source": [
    "# import necessary libraries\n",
    "import time\n",
    "import pandas as pd\n",
    "from helpers.helper_functions import init_connection, create_worksheet_lists, create_nodes, create_relationships, reset_db\n",
    "\n",
    "# set up timer for runtime of the script\n",
    "start_time = time.time()\n",
    "\n",
    "# initialize connection to the database\n",
    "graph = init_connection()\n",
    "\n",
    "# define source file path\n",
    "excel_file = pd.ExcelFile(\"data/knowledge_graph.xlsx\")"
   ],
   "outputs": [
    {
     "name": "stdout",
     "output_type": "stream",
     "text": [
      "Connected to the database\n"
     ]
    }
   ],
   "execution_count": 23
  },
  {
   "cell_type": "markdown",
   "metadata": {},
   "source": [
    "### Reset Knowledge Graph\n",
    "To avoid duplicates in the database the database should be deleted entirely to get a complete new database without any data."
   ]
  },
  {
   "cell_type": "code",
   "metadata": {
    "ExecuteTime": {
     "end_time": "2025-04-22T14:18:35.789639Z",
     "start_time": "2025-04-22T14:18:35.759047Z"
    }
   },
   "source": [
    "# call the function to reset the datbase\n",
    "reset_db(graph=graph)"
   ],
   "outputs": [
    {
     "name": "stdout",
     "output_type": "stream",
     "text": [
      "\u001B[32mDatabase reset completed\u001B[0m\n"
     ]
    }
   ],
   "execution_count": 24
  },
  {
   "cell_type": "markdown",
   "metadata": {},
   "source": [
    "### Create Worksheet Lists\n",
    "Before we can create the knowledge graph it is necessary to split the worksheets from the excel in Node worksheets and Relationship worksheets because they need to be handled in a different way."
   ]
  },
  {
   "cell_type": "code",
   "metadata": {
    "ExecuteTime": {
     "end_time": "2025-04-22T14:18:35.838900Z",
     "start_time": "2025-04-22T14:18:35.803998Z"
    }
   },
   "source": [
    "# call function to create nodes and relationships and store them in variables\n",
    "node_worksheets, rel_worksheets = create_worksheet_lists(excel_file=excel_file)"
   ],
   "outputs": [
    {
     "name": "stdout",
     "output_type": "stream",
     "text": [
      "Node worksheets:  ['Doctor', 'Topic', 'SubTopic', 'Illness', 'Symptom', 'Cause', 'Treatment', 'Patient', 'Drug', 'Diagnosis', 'Hospital', 'Allergy', 'Insurance', 'Department']\n",
      "Relationship worksheets:  ['REL_Doctor', 'REL_Topic', 'REL_Illness', 'REL_Symptom', 'REL_Patient', 'REL_Hospital'] \n",
      "\n"
     ]
    }
   ],
   "execution_count": 25
  },
  {
   "cell_type": "markdown",
   "metadata": {},
   "source": [
    "### Create Nodes\n",
    "To create all nodes we need to iterate over all node_worksheets we've just created and read the data of each worksheet. "
   ]
  },
  {
   "cell_type": "code",
   "metadata": {
    "ExecuteTime": {
     "end_time": "2025-04-22T14:18:36.613769Z",
     "start_time": "2025-04-22T14:18:35.851638Z"
    }
   },
   "source": [
    "# call function to create relationships\n",
    "create_nodes(worksheets=node_worksheets, excel_file=excel_file, graph=graph)"
   ],
   "outputs": [
    {
     "name": "stdout",
     "output_type": "stream",
     "text": [
      "Created 10 nodes with the label 'Doctor'\n",
      "Created 10 nodes with the label 'Topic'\n",
      "Created 20 nodes with the label 'SubTopic'\n",
      "Created 30 nodes with the label 'Illness'\n",
      "Created 55 nodes with the label 'Symptom'\n",
      "Created 55 nodes with the label 'Cause'\n",
      "Created 55 nodes with the label 'Treatment'\n",
      "Created 20 nodes with the label 'Patient'\n",
      "Created 60 nodes with the label 'Drug'\n",
      "Created 30 nodes with the label 'Diagnosis'\n",
      "Created 5 nodes with the label 'Hospital'\n",
      "Created 15 nodes with the label 'Allergy'\n",
      "Created 5 nodes with the label 'Insurance'\n",
      "Created 10 nodes with the label 'Department'\n",
      "\u001B[32mAll nodes have been created successfully. In total: 14 node types.\n",
      "\u001B[0m\n"
     ]
    }
   ],
   "execution_count": 26
  },
  {
   "cell_type": "markdown",
   "metadata": {},
   "source": [
    "### Create Relationships\n",
    "To create all relationships we need to iterate over all rel_worksheets we've just created and read the data of each worksheet."
   ]
  },
  {
   "cell_type": "code",
   "metadata": {
    "ExecuteTime": {
     "end_time": "2025-04-22T14:18:37.624273Z",
     "start_time": "2025-04-22T14:18:36.621199Z"
    }
   },
   "source": [
    "# call function to create relationships\n",
    "create_relationships(worksheets=rel_worksheets, excel_file=excel_file, graph=graph)"
   ],
   "outputs": [
    {
     "name": "stdout",
     "output_type": "stream",
     "text": [
      "Created 190 relationships from a 'Doctor' node\n",
      "Created 20 relationships from a 'Topic' node\n",
      "Created 150 relationships from a 'Illness' node\n",
      "Created 60 relationships from a 'Symptom' node\n",
      "Created 180 relationships from a 'Patient' node\n",
      "Created 10 relationships from a 'Hospital' node\n",
      "\u001B[32mAll relationships have been created successfully.\n",
      "\u001B[0m\n"
     ]
    }
   ],
   "execution_count": 27
  },
  {
   "cell_type": "markdown",
   "metadata": {},
   "source": [
    "### Timestamp\n",
    "Print the timestamp when the script was executed."
   ]
  },
  {
   "cell_type": "code",
   "metadata": {
    "ExecuteTime": {
     "end_time": "2025-04-22T14:18:37.638874Z",
     "start_time": "2025-04-22T14:18:37.635794Z"
    }
   },
   "source": [
    "# print statement to print when the script was executed\n",
    "print(f\"This script was run on: {time.strftime('%d.%m.%Y %H:%M:%S')}\")\n",
    "end_time = time.time()\n",
    "total_time = end_time - start_time\n",
    "print(f\"Total execution time: {total_time:.2f} seconds\")"
   ],
   "outputs": [
    {
     "name": "stdout",
     "output_type": "stream",
     "text": [
      "This script was run on: 22.04.2025 16:18:37\n",
      "Total execution time: 2.05 seconds\n"
     ]
    }
   ],
   "execution_count": 28
  }
 ],
 "metadata": {
  "kernelspec": {
   "display_name": "venv",
   "language": "python",
   "name": "python3"
  },
  "language_info": {
   "codemirror_mode": {
    "name": "ipython",
    "version": 3
   },
   "file_extension": ".py",
   "mimetype": "text/x-python",
   "name": "python",
   "nbconvert_exporter": "python",
   "pygments_lexer": "ipython3",
   "version": "3.13.1"
  }
 },
 "nbformat": 4,
 "nbformat_minor": 2
}
