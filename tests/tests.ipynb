{
 "cells": [
  {
   "cell_type": "markdown",
   "metadata": {},
   "source": [
    "# Tests\n",
    "In the following notebook there will be several tests about the source code and the usabilty of the Knowledge Graph. In first place it's required to import all necessary libraries, connect to the database and start the runtime timer."
   ]
  },
  {
   "cell_type": "code",
   "metadata": {
    "ExecuteTime": {
     "end_time": "2025-04-22T15:09:31.738305Z",
     "start_time": "2025-04-22T15:09:31.726253Z"
    }
   },
   "source": [
    "# importing necessary libraries\n",
    "import os\n",
    "import time\n",
    "import datetime as dt\n",
    "import pandas as pd\n",
    "from termcolor import colored\n",
    "from helpers.helper_functions import init_connection, excel_import, export_to_excel, test_query, reset_db\n",
    "\n",
    "# set up timer for runtime of the script\n",
    "start_time = time.time()\n",
    "\n",
    "# init connection to the neo4j database\n",
    "graph = init_connection()"
   ],
   "outputs": [
    {
     "name": "stdout",
     "output_type": "stream",
     "text": [
      "Connected to the database\n"
     ]
    }
   ],
   "execution_count": 14
  },
  {
   "cell_type": "markdown",
   "metadata": {},
   "source": [
    "## Functional Tests"
   ]
  },
  {
   "cell_type": "markdown",
   "metadata": {},
   "source": [
    "### Test Creation of Knowledge Graph\n",
    "\n",
    "This block of code verifies that the knowledge graph has been successfully created in the Neo4j database by checking the presence of both nodes and relationships. It begins by executing a Cypher query to count all nodes in the graph using `MATCH (n) RETURN count(n) as node_count`. The result is extracted, and an assertion is made to ensure that at least one node exists. The number of nodes is then printed to provide feedback.\n",
    "\n",
    "Next, the code performs a similar check for relationships. It runs the query `MATCH ()-[r]->() RETURN count(r) as relationship_count` to count all relationships in the database. Again, it asserts that there is at least one relationship present, and finally prints the number of relationships. These checks serve as a fundamental validation that the graph was populated and structured correctly, forming the foundation for all subsequent operations and tests."
   ]
  },
  {
   "cell_type": "code",
   "metadata": {
    "ExecuteTime": {
     "end_time": "2025-04-22T15:09:31.880Z",
     "start_time": "2025-04-22T15:09:31.845916Z"
    }
   },
   "source": [
    "# query to get the number of nodes in the database\n",
    "query_node_count = \"\"\"\n",
    "MATCH (n)\n",
    "RETURN count(n) as node_count\n",
    "\"\"\"\n",
    "\n",
    "# run the query and get the data of the result\n",
    "node_result =  graph.run(query_node_count).data()\n",
    "# extract the number of nodes from the result\n",
    "number_of_nodes = node_result[0]['node_count']\n",
    "\n",
    "# assert the number of nodes is at least 1\n",
    "assert(number_of_nodes > 0)\n",
    "\n",
    "# print the number of nodes\n",
    "print(f\"Number of nodes in the database: {number_of_nodes}\")\n",
    "\n",
    "\n",
    "# query to get the number of relationships in the database\n",
    "query_node_count = \"\"\"\n",
    "MATCH ()-[r]->()\n",
    "RETURN count(r) as relationship_count\n",
    "\"\"\"\n",
    "\n",
    "# run the query and get the data of the result\n",
    "node_result = graph.run(query_node_count).data()\n",
    "# extract the number of relationships from the result\n",
    "number_of_rels = node_result[0]['relationship_count']\n",
    "\n",
    "# assert the number of relationships is at least 1\n",
    "assert(number_of_rels > 0)\n",
    "\n",
    "# print the number of relationships\n",
    "print(f\"Number of relationships in the database: {node_result[0]['relationship_count']}\")"
   ],
   "outputs": [
    {
     "name": "stdout",
     "output_type": "stream",
     "text": [
      "Number of nodes in the database: 380\n",
      "Number of relationships in the database: 602\n"
     ]
    }
   ],
   "execution_count": 15
  },
  {
   "cell_type": "markdown",
   "metadata": {},
   "source": [
    "### Get all Doctors\n",
    "This query returns all doctors and tests if all nodes have a specialization attribute to be sure there are only doctor nodes returned.\n",
    "\n",
    "This block queries all nodes labeled Doctor in the Neo4j database and retrieves their properties, including name, specialization, years of experience and contact email. It ensures that all returned nodes actually represent valid doctors by asserting that each one has a non-empty specialization\n",
    "field. After the validation, it prints the total number of doctor nodes and returns their data in a tabular format using a pandas DataFrame. This\n",
    "allows for easy inspection and verification of the doctor-related data in the graph."
   ]
  },
  {
   "cell_type": "code",
   "metadata": {
    "ExecuteTime": {
     "end_time": "2025-04-22T15:09:31.979443Z",
     "start_time": "2025-04-22T15:09:31.950870Z"
    }
   },
   "source": [
    "# query to get all Doctor nodes\n",
    "query_node_count = \"\"\"\n",
    "MATCH (d:Doctor)\n",
    "RETURN d.name as name, d.specialization as specialization, d.yearsOfExperience as years_of_experience, d.contactEmail as contact_email\n",
    "\"\"\"\n",
    "\n",
    "# run the query and get the data of the result\n",
    "node_result = graph.run(query_node_count).data()\n",
    "\n",
    "# extract the number of doctors from the result\n",
    "number_of_doctors = len(node_result)\n",
    "\n",
    "# assert that all doctors have a specialization to be sure that there are only doctors returned\n",
    "assert all(doctor['specialization'] for doctor in node_result), node_result\n",
    "\n",
    "# print the number of doctors\n",
    "print(f\"Number of doctors in the database: {number_of_doctors}\")\n",
    "# print the details of the doctors\n",
    "\n",
    "# convert the node result as a dataframe\n",
    "pd.DataFrame(node_result)"
   ],
   "outputs": [
    {
     "name": "stdout",
     "output_type": "stream",
     "text": [
      "Number of doctors in the database: 10\n"
     ]
    },
    {
     "data": {
      "text/plain": [
       "                  name   specialization years_of_experience  \\\n",
       "0     Dr. Emily Carter       Cardiology                  15   \n",
       "1  Dr. Michael Johnson      Dermatology                  18   \n",
       "2       Dr. Sophia Lee        Neurology                  12   \n",
       "3   Dr. Benjamin Smith       Pediatrics                  20   \n",
       "4     Dr. Olivia Brown         Oncology                  22   \n",
       "5      Dr. Ethan Davis      Orthopedics                  17   \n",
       "6       Dr. Ava Wilson       Psychiatry                  14   \n",
       "7    Dr. Liam Martinez  General Surgery                  25   \n",
       "8  Dr. Isabella Garcia        Radiology                  10   \n",
       "9      Dr. Noah Miller    Ophthalmology                  13   \n",
       "\n",
       "                 contact_email  \n",
       "0     emily.carter@example.com  \n",
       "1  michael.johnson@example.com  \n",
       "2       sophia.lee@example.com  \n",
       "3   benjamin.smith@example.com  \n",
       "4     olivia.brown@example.com  \n",
       "5      ethan.davis@example.com  \n",
       "6       ava.wilson@example.com  \n",
       "7    liam.martinez@example.com  \n",
       "8  isabella.garcia@example.com  \n",
       "9      noah.miller@example.com  "
      ],
      "text/html": [
       "<div>\n",
       "<style scoped>\n",
       "    .dataframe tbody tr th:only-of-type {\n",
       "        vertical-align: middle;\n",
       "    }\n",
       "\n",
       "    .dataframe tbody tr th {\n",
       "        vertical-align: top;\n",
       "    }\n",
       "\n",
       "    .dataframe thead th {\n",
       "        text-align: right;\n",
       "    }\n",
       "</style>\n",
       "<table border=\"1\" class=\"dataframe\">\n",
       "  <thead>\n",
       "    <tr style=\"text-align: right;\">\n",
       "      <th></th>\n",
       "      <th>name</th>\n",
       "      <th>specialization</th>\n",
       "      <th>years_of_experience</th>\n",
       "      <th>contact_email</th>\n",
       "    </tr>\n",
       "  </thead>\n",
       "  <tbody>\n",
       "    <tr>\n",
       "      <th>0</th>\n",
       "      <td>Dr. Emily Carter</td>\n",
       "      <td>Cardiology</td>\n",
       "      <td>15</td>\n",
       "      <td>emily.carter@example.com</td>\n",
       "    </tr>\n",
       "    <tr>\n",
       "      <th>1</th>\n",
       "      <td>Dr. Michael Johnson</td>\n",
       "      <td>Dermatology</td>\n",
       "      <td>18</td>\n",
       "      <td>michael.johnson@example.com</td>\n",
       "    </tr>\n",
       "    <tr>\n",
       "      <th>2</th>\n",
       "      <td>Dr. Sophia Lee</td>\n",
       "      <td>Neurology</td>\n",
       "      <td>12</td>\n",
       "      <td>sophia.lee@example.com</td>\n",
       "    </tr>\n",
       "    <tr>\n",
       "      <th>3</th>\n",
       "      <td>Dr. Benjamin Smith</td>\n",
       "      <td>Pediatrics</td>\n",
       "      <td>20</td>\n",
       "      <td>benjamin.smith@example.com</td>\n",
       "    </tr>\n",
       "    <tr>\n",
       "      <th>4</th>\n",
       "      <td>Dr. Olivia Brown</td>\n",
       "      <td>Oncology</td>\n",
       "      <td>22</td>\n",
       "      <td>olivia.brown@example.com</td>\n",
       "    </tr>\n",
       "    <tr>\n",
       "      <th>5</th>\n",
       "      <td>Dr. Ethan Davis</td>\n",
       "      <td>Orthopedics</td>\n",
       "      <td>17</td>\n",
       "      <td>ethan.davis@example.com</td>\n",
       "    </tr>\n",
       "    <tr>\n",
       "      <th>6</th>\n",
       "      <td>Dr. Ava Wilson</td>\n",
       "      <td>Psychiatry</td>\n",
       "      <td>14</td>\n",
       "      <td>ava.wilson@example.com</td>\n",
       "    </tr>\n",
       "    <tr>\n",
       "      <th>7</th>\n",
       "      <td>Dr. Liam Martinez</td>\n",
       "      <td>General Surgery</td>\n",
       "      <td>25</td>\n",
       "      <td>liam.martinez@example.com</td>\n",
       "    </tr>\n",
       "    <tr>\n",
       "      <th>8</th>\n",
       "      <td>Dr. Isabella Garcia</td>\n",
       "      <td>Radiology</td>\n",
       "      <td>10</td>\n",
       "      <td>isabella.garcia@example.com</td>\n",
       "    </tr>\n",
       "    <tr>\n",
       "      <th>9</th>\n",
       "      <td>Dr. Noah Miller</td>\n",
       "      <td>Ophthalmology</td>\n",
       "      <td>13</td>\n",
       "      <td>noah.miller@example.com</td>\n",
       "    </tr>\n",
       "  </tbody>\n",
       "</table>\n",
       "</div>"
      ]
     },
     "execution_count": 16,
     "metadata": {},
     "output_type": "execute_result"
    }
   ],
   "execution_count": 16
  },
  {
   "cell_type": "markdown",
   "metadata": {},
   "source": [
    "### Test Export Functionality\n",
    "This block tests whether the export functionality of the knowledge graph works correctly. It starts by counting the number of files currently present in the export directory. Then, it calls the export_to_excel() function, which creates a new Excel file containing the current graph data. After the export is completed, the script recounts the number of files in the directory. It uses an assertion to check that exactly one new file has been created. This confirms that the export process successfully generated and saved a new file representing the graph’s state."
   ]
  },
  {
   "cell_type": "code",
   "metadata": {
    "ExecuteTime": {
     "end_time": "2025-04-22T15:09:32.435876Z",
     "start_time": "2025-04-22T15:09:32.092024Z"
    }
   },
   "source": [
    "# define the relative export path\n",
    "export_path = \"../data/export\"\n",
    "\n",
    "# number of files in export directory\n",
    "number_of_files = len(os.listdir(export_path))\n",
    "\n",
    "# define the current time for the filename\n",
    "current_time = dt.datetime.now().strftime(\"%Y-%m-%d_%H-%M-%S\")\n",
    "\n",
    "export_to_excel(current_time=current_time, graph=graph, export_path=export_path)\n",
    "\n",
    "# check if the number of files in the export directory has increased\n",
    "number_of_files_after = len(os.listdir(export_path))\n",
    "\n",
    "# assert that the number of files has increased by 1\n",
    "assert number_of_files_after - number_of_files == 1, \"Export failed: no new file created.\""
   ],
   "outputs": [
    {
     "name": "stdout",
     "output_type": "stream",
     "text": [
      "\u001B[32mExport completed. File saved at: ../data/export/export_2025-04-22_17-09-32.xlsx\u001B[0m\n"
     ]
    }
   ],
   "execution_count": 17
  },
  {
   "cell_type": "markdown",
   "metadata": {},
   "source": [
    "### Test Import Functionality\n",
    "This block tests whether the import functionality for the knowledge graph works correctly. It begins by querying and recording the current number of nodes and relationships in the Neo4j database. Then, it loads an Excel file containing additional graph data and imports that data into the graph using the excel_import() function. After the import process, the script again queries the database to count the updated number of nodes and relationships. It uses assertions to verify that both counts have increased, confirming that the import operation successfully added new data to the graph."
   ]
  },
  {
   "cell_type": "code",
   "metadata": {
    "ExecuteTime": {
     "end_time": "2025-04-22T15:09:32.551099Z",
     "start_time": "2025-04-22T15:09:32.499307Z"
    }
   },
   "source": [
    "# query to get the number of current nodes\n",
    "query_node_count = \"\"\"\n",
    "MATCH (n)\n",
    "RETURN count(n) as node_count\n",
    "\"\"\"\n",
    "# query to get the number of current relationships\n",
    "query_rel_count = \"\"\"\n",
    "MATCH ()-[r]->()\n",
    "RETURN count(r) as relationship_count\n",
    "\"\"\"\n",
    "\n",
    "# run the query and get the data of the result\n",
    "node_result = graph.run(query_node_count).data()\n",
    "# run the query and get the data of the result\n",
    "rel_result = graph.run(query_rel_count).data()\n",
    "\n",
    "# extract the number of nodes from the result\n",
    "number_of_nodes = node_result[0]['node_count']\n",
    "# extract the number of relationships from the result\n",
    "number_of_rels = rel_result[0]['relationship_count']\n",
    "\n",
    "# define the excel file path\n",
    "import_file = pd.ExcelFile(\"../data/import/import_data.xlsx\")\n",
    "\n",
    "# import the data from the excel file into the database\n",
    "excel_import(excel_file=import_file, graph=graph)\n",
    "\n",
    "# query to get the number of nodes after importing the data\n",
    "after_result = graph.run(query_node_count).data()\n",
    "# query to get the number of relationships after importing the data\n",
    "after_rel_result = graph.run(query_rel_count).data()\n",
    "\n",
    "# extract the number of nodes from the result\n",
    "after_number_of_nodes = after_result[0]['node_count']\n",
    "# extract the number of relationships from the result\n",
    "after_number_of_rels = after_rel_result[0]['relationship_count']\n",
    "\n",
    "# assert that the number of nodes has increased\n",
    "assert after_number_of_nodes > number_of_nodes, f\"Number of nodes before import: {number_of_nodes}, after import: {after_number_of_nodes}\"\n",
    "\n",
    "# assert that the number of relationships has increased\n",
    "assert after_number_of_rels > number_of_rels, f\"Number of relationships before import: {number_of_rels}, after import: {after_number_of_rels}\""
   ],
   "outputs": [
    {
     "name": "stdout",
     "output_type": "stream",
     "text": [
      "Node worksheets:  ['Doctor']\n",
      "Relationship worksheets:  ['REL_Doctor'] \n",
      "\n",
      "Created 1 nodes with the label 'Doctor'\n",
      "\u001B[32mAll nodes have been created successfully. In total: 1 node types.\n",
      "\u001B[0m\n",
      "Created 1 relationships from a 'Doctor' node\n",
      "\u001B[32mAll relationships have been created successfully.\n",
      "\u001B[0m\n"
     ]
    }
   ],
   "execution_count": 18
  },
  {
   "cell_type": "markdown",
   "metadata": {},
   "source": [
    "## Non-functional Tests - Usability Tests"
   ]
  },
  {
   "cell_type": "markdown",
   "metadata": {},
   "source": [
    "### Get all illnesses\n",
    "\n",
    "This block defines and executes a Cypher query that retrieves all nodes labeled as Illness from the Neo4j database. For each illness, it returns key properties such as the illness name, its ICD code, and a description. The `test_query()` helper function is used to run the query and display the results in a readable table format. This helps verify that illness-related data has been correctly imported and structured within the knowledge graph."
   ]
  },
  {
   "cell_type": "code",
   "metadata": {
    "ExecuteTime": {
     "end_time": "2025-04-22T15:09:32.889164Z",
     "start_time": "2025-04-22T15:09:32.690808Z"
    }
   },
   "source": [
    "# define query to get all illness nodes\n",
    "query = \"\"\"\n",
    "MATCH (i:Illness)\n",
    "RETURN i.name as name, i.ICDCode as ICD_Code, i.description as description\n",
    "\"\"\"\n",
    "\n",
    "# call the function to run the test of the specified query\n",
    "test_query(query=query, graph=graph)"
   ],
   "outputs": [
    {
     "name": "stdout",
     "output_type": "stream",
     "text": [
      "Average execution time: 0.0018916729199918336 seconds\n"
     ]
    },
    {
     "data": {
      "text/plain": [
       "                                        name ICD_Code  \\\n",
       "0                         Acute Otitis Media    H66.9   \n",
       "1                       Alcohol Use Disorder   F10.20   \n",
       "2            Anterior Cruciate Ligament Tear   S83.51   \n",
       "3                               Appendicitis   K35.80   \n",
       "4                          Atopic Dermatitis    L20.9   \n",
       "5   Attention-Deficit/Hyperactivity Disorder    F90.9   \n",
       "6                       Basal Cell Carcinoma   C44.91   \n",
       "7                     Blunt Abdominal Trauma    S36.1   \n",
       "8                              Breast Cancer    C50.9   \n",
       "9                                   Cataract    H25.9   \n",
       "10                         Colorectal Cancer    C18.9   \n",
       "11                  Congestive Heart Failure    I50.9   \n",
       "12                      Head and Neck Cancer    C32.9   \n",
       "13                    Ischemic Heart Disease    I25.9   \n",
       "14                           Ischemic Stroke    I63.9   \n",
       "15                Laparoscopic Cholecystitis   K80.00   \n",
       "16                 Major Depressive Disorder    F32.9   \n",
       "17                                  Melanoma    C43.9   \n",
       "18                                  Migraine    G43.0   \n",
       "19    Neonatal Respiratory Distress Syndrome    P22.0   \n",
       "20                   Normal-Tension Glaucoma  H40.121   \n",
       "21                            Osteoarthritis   M19.90   \n",
       "22                                 Pneumonia    J18.9   \n",
       "23        Post-Interventional Pseudoaneurysm  I97.810   \n",
       "24         Postoperative Atrial Fibrillation   I48.91   \n",
       "25             Postoperative Endophthalmitis    H44.1   \n",
       "26                Prosthetic Joint Infection    T84.5   \n",
       "27                        Pulmonary Embolism   I26.99   \n",
       "28                    Temporal Lobe Epilepsy    G40.2   \n",
       "29                    Varicella (Chickenpox)    B01.9   \n",
       "\n",
       "                                          description  \n",
       "0   Middle ear infection commonly seen in children...  \n",
       "1   A chronic condition characterized by problemat...  \n",
       "2   A common knee injury in athletes involving lig...  \n",
       "3   Inflammation of the appendix often requiring s...  \n",
       "4   A chronic skin condition causing itchy and inf...  \n",
       "5   A neurodevelopmental disorder characterized by...  \n",
       "6   A common form of skin cancer that rarely metas...  \n",
       "7   Injury to the abdominal organs from blunt forc...  \n",
       "8     A malignant tumor originating in breast tissue.  \n",
       "9   Clouding of the eye\\'s lens leading to decreas...  \n",
       "10         Cancer originating in the colon or rectum.  \n",
       "11  A chronic condition where the heart is unable ...  \n",
       "12  Cancer affecting the head and neck region trea...  \n",
       "13  Chronic condition due to narrowing of coronary...  \n",
       "14  Stroke caused by blockage of a blood vessel in...  \n",
       "15  Gallstone-related inflammation treated via min...  \n",
       "16  A mood disorder causing persistent feelings of...  \n",
       "17  A malignant skin cancer that originates in pig...  \n",
       "18  A neurological condition characterized by inte...  \n",
       "19  A lung condition affecting premature infants d...  \n",
       "20  A form of glaucoma where optic nerve damage oc...  \n",
       "21  Degenerative joint disease leading to pain and...  \n",
       "22  Lung infection characterized by inflammation o...  \n",
       "23  A rare vascular complication following interve...  \n",
       "24  Irregular heartbeat occurring after cardiac su...  \n",
       "25  A severe eye infection that may occur after ca...  \n",
       "26  Infection associated with an artificial joint ...  \n",
       "27  A blockage in one of the pulmonary arteries in...  \n",
       "28  A form of epilepsy originating in the temporal...  \n",
       "29  A highly contagious viral infection common in ...  "
      ],
      "text/html": [
       "<div>\n",
       "<style scoped>\n",
       "    .dataframe tbody tr th:only-of-type {\n",
       "        vertical-align: middle;\n",
       "    }\n",
       "\n",
       "    .dataframe tbody tr th {\n",
       "        vertical-align: top;\n",
       "    }\n",
       "\n",
       "    .dataframe thead th {\n",
       "        text-align: right;\n",
       "    }\n",
       "</style>\n",
       "<table border=\"1\" class=\"dataframe\">\n",
       "  <thead>\n",
       "    <tr style=\"text-align: right;\">\n",
       "      <th></th>\n",
       "      <th>name</th>\n",
       "      <th>ICD_Code</th>\n",
       "      <th>description</th>\n",
       "    </tr>\n",
       "  </thead>\n",
       "  <tbody>\n",
       "    <tr>\n",
       "      <th>0</th>\n",
       "      <td>Acute Otitis Media</td>\n",
       "      <td>H66.9</td>\n",
       "      <td>Middle ear infection commonly seen in children...</td>\n",
       "    </tr>\n",
       "    <tr>\n",
       "      <th>1</th>\n",
       "      <td>Alcohol Use Disorder</td>\n",
       "      <td>F10.20</td>\n",
       "      <td>A chronic condition characterized by problemat...</td>\n",
       "    </tr>\n",
       "    <tr>\n",
       "      <th>2</th>\n",
       "      <td>Anterior Cruciate Ligament Tear</td>\n",
       "      <td>S83.51</td>\n",
       "      <td>A common knee injury in athletes involving lig...</td>\n",
       "    </tr>\n",
       "    <tr>\n",
       "      <th>3</th>\n",
       "      <td>Appendicitis</td>\n",
       "      <td>K35.80</td>\n",
       "      <td>Inflammation of the appendix often requiring s...</td>\n",
       "    </tr>\n",
       "    <tr>\n",
       "      <th>4</th>\n",
       "      <td>Atopic Dermatitis</td>\n",
       "      <td>L20.9</td>\n",
       "      <td>A chronic skin condition causing itchy and inf...</td>\n",
       "    </tr>\n",
       "    <tr>\n",
       "      <th>5</th>\n",
       "      <td>Attention-Deficit/Hyperactivity Disorder</td>\n",
       "      <td>F90.9</td>\n",
       "      <td>A neurodevelopmental disorder characterized by...</td>\n",
       "    </tr>\n",
       "    <tr>\n",
       "      <th>6</th>\n",
       "      <td>Basal Cell Carcinoma</td>\n",
       "      <td>C44.91</td>\n",
       "      <td>A common form of skin cancer that rarely metas...</td>\n",
       "    </tr>\n",
       "    <tr>\n",
       "      <th>7</th>\n",
       "      <td>Blunt Abdominal Trauma</td>\n",
       "      <td>S36.1</td>\n",
       "      <td>Injury to the abdominal organs from blunt forc...</td>\n",
       "    </tr>\n",
       "    <tr>\n",
       "      <th>8</th>\n",
       "      <td>Breast Cancer</td>\n",
       "      <td>C50.9</td>\n",
       "      <td>A malignant tumor originating in breast tissue.</td>\n",
       "    </tr>\n",
       "    <tr>\n",
       "      <th>9</th>\n",
       "      <td>Cataract</td>\n",
       "      <td>H25.9</td>\n",
       "      <td>Clouding of the eye\\'s lens leading to decreas...</td>\n",
       "    </tr>\n",
       "    <tr>\n",
       "      <th>10</th>\n",
       "      <td>Colorectal Cancer</td>\n",
       "      <td>C18.9</td>\n",
       "      <td>Cancer originating in the colon or rectum.</td>\n",
       "    </tr>\n",
       "    <tr>\n",
       "      <th>11</th>\n",
       "      <td>Congestive Heart Failure</td>\n",
       "      <td>I50.9</td>\n",
       "      <td>A chronic condition where the heart is unable ...</td>\n",
       "    </tr>\n",
       "    <tr>\n",
       "      <th>12</th>\n",
       "      <td>Head and Neck Cancer</td>\n",
       "      <td>C32.9</td>\n",
       "      <td>Cancer affecting the head and neck region trea...</td>\n",
       "    </tr>\n",
       "    <tr>\n",
       "      <th>13</th>\n",
       "      <td>Ischemic Heart Disease</td>\n",
       "      <td>I25.9</td>\n",
       "      <td>Chronic condition due to narrowing of coronary...</td>\n",
       "    </tr>\n",
       "    <tr>\n",
       "      <th>14</th>\n",
       "      <td>Ischemic Stroke</td>\n",
       "      <td>I63.9</td>\n",
       "      <td>Stroke caused by blockage of a blood vessel in...</td>\n",
       "    </tr>\n",
       "    <tr>\n",
       "      <th>15</th>\n",
       "      <td>Laparoscopic Cholecystitis</td>\n",
       "      <td>K80.00</td>\n",
       "      <td>Gallstone-related inflammation treated via min...</td>\n",
       "    </tr>\n",
       "    <tr>\n",
       "      <th>16</th>\n",
       "      <td>Major Depressive Disorder</td>\n",
       "      <td>F32.9</td>\n",
       "      <td>A mood disorder causing persistent feelings of...</td>\n",
       "    </tr>\n",
       "    <tr>\n",
       "      <th>17</th>\n",
       "      <td>Melanoma</td>\n",
       "      <td>C43.9</td>\n",
       "      <td>A malignant skin cancer that originates in pig...</td>\n",
       "    </tr>\n",
       "    <tr>\n",
       "      <th>18</th>\n",
       "      <td>Migraine</td>\n",
       "      <td>G43.0</td>\n",
       "      <td>A neurological condition characterized by inte...</td>\n",
       "    </tr>\n",
       "    <tr>\n",
       "      <th>19</th>\n",
       "      <td>Neonatal Respiratory Distress Syndrome</td>\n",
       "      <td>P22.0</td>\n",
       "      <td>A lung condition affecting premature infants d...</td>\n",
       "    </tr>\n",
       "    <tr>\n",
       "      <th>20</th>\n",
       "      <td>Normal-Tension Glaucoma</td>\n",
       "      <td>H40.121</td>\n",
       "      <td>A form of glaucoma where optic nerve damage oc...</td>\n",
       "    </tr>\n",
       "    <tr>\n",
       "      <th>21</th>\n",
       "      <td>Osteoarthritis</td>\n",
       "      <td>M19.90</td>\n",
       "      <td>Degenerative joint disease leading to pain and...</td>\n",
       "    </tr>\n",
       "    <tr>\n",
       "      <th>22</th>\n",
       "      <td>Pneumonia</td>\n",
       "      <td>J18.9</td>\n",
       "      <td>Lung infection characterized by inflammation o...</td>\n",
       "    </tr>\n",
       "    <tr>\n",
       "      <th>23</th>\n",
       "      <td>Post-Interventional Pseudoaneurysm</td>\n",
       "      <td>I97.810</td>\n",
       "      <td>A rare vascular complication following interve...</td>\n",
       "    </tr>\n",
       "    <tr>\n",
       "      <th>24</th>\n",
       "      <td>Postoperative Atrial Fibrillation</td>\n",
       "      <td>I48.91</td>\n",
       "      <td>Irregular heartbeat occurring after cardiac su...</td>\n",
       "    </tr>\n",
       "    <tr>\n",
       "      <th>25</th>\n",
       "      <td>Postoperative Endophthalmitis</td>\n",
       "      <td>H44.1</td>\n",
       "      <td>A severe eye infection that may occur after ca...</td>\n",
       "    </tr>\n",
       "    <tr>\n",
       "      <th>26</th>\n",
       "      <td>Prosthetic Joint Infection</td>\n",
       "      <td>T84.5</td>\n",
       "      <td>Infection associated with an artificial joint ...</td>\n",
       "    </tr>\n",
       "    <tr>\n",
       "      <th>27</th>\n",
       "      <td>Pulmonary Embolism</td>\n",
       "      <td>I26.99</td>\n",
       "      <td>A blockage in one of the pulmonary arteries in...</td>\n",
       "    </tr>\n",
       "    <tr>\n",
       "      <th>28</th>\n",
       "      <td>Temporal Lobe Epilepsy</td>\n",
       "      <td>G40.2</td>\n",
       "      <td>A form of epilepsy originating in the temporal...</td>\n",
       "    </tr>\n",
       "    <tr>\n",
       "      <th>29</th>\n",
       "      <td>Varicella (Chickenpox)</td>\n",
       "      <td>B01.9</td>\n",
       "      <td>A highly contagious viral infection common in ...</td>\n",
       "    </tr>\n",
       "  </tbody>\n",
       "</table>\n",
       "</div>"
      ]
     },
     "execution_count": 19,
     "metadata": {},
     "output_type": "execute_result"
    }
   ],
   "execution_count": 19
  },
  {
   "cell_type": "markdown",
   "metadata": {},
   "source": [
    "### Find all symptoms of a specific illness\n",
    "\n",
    "This block defines and executes a Cypher query that retrieves all symptoms associated with the illness named `Migraine`. It matches Symptom nodes connected to an Illness node via the `SYMPTOM_OF` relationship, filtered specifically to cases where the illness name is `Migraine`. The query returns the name of each symptom found. The result is passed to the `test_query()` helper function, which executes the query and formats the output for display. This helps confirm that the symptom-illness relationships for `Migraine` are correctly stored in the graph."
   ]
  },
  {
   "cell_type": "code",
   "metadata": {
    "ExecuteTime": {
     "end_time": "2025-04-22T15:09:33.130080Z",
     "start_time": "2025-04-22T15:09:33.015439Z"
    }
   },
   "source": [
    "# define query to get all symptoms of a specific illness\n",
    "query = \"\"\" \n",
    "MATCH (s:Symptom)-[r:SYMPTOM_OF]->(i:Illness) \n",
    "WHERE i.name = 'Migraine'\n",
    "RETURN s.name as symptom\n",
    "\"\"\"\n",
    "\n",
    "# call the function to run the test of the specified query\n",
    "test_query(query=query, graph=graph)"
   ],
   "outputs": [
    {
     "name": "stdout",
     "output_type": "stream",
     "text": [
      "Average execution time: 0.0010991775000002235 seconds\n"
     ]
    },
    {
     "data": {
      "text/plain": [
       "              symptom\n",
       "0   Light Sensitivity\n",
       "1  Throbbing Headache"
      ],
      "text/html": [
       "<div>\n",
       "<style scoped>\n",
       "    .dataframe tbody tr th:only-of-type {\n",
       "        vertical-align: middle;\n",
       "    }\n",
       "\n",
       "    .dataframe tbody tr th {\n",
       "        vertical-align: top;\n",
       "    }\n",
       "\n",
       "    .dataframe thead th {\n",
       "        text-align: right;\n",
       "    }\n",
       "</style>\n",
       "<table border=\"1\" class=\"dataframe\">\n",
       "  <thead>\n",
       "    <tr style=\"text-align: right;\">\n",
       "      <th></th>\n",
       "      <th>symptom</th>\n",
       "    </tr>\n",
       "  </thead>\n",
       "  <tbody>\n",
       "    <tr>\n",
       "      <th>0</th>\n",
       "      <td>Light Sensitivity</td>\n",
       "    </tr>\n",
       "    <tr>\n",
       "      <th>1</th>\n",
       "      <td>Throbbing Headache</td>\n",
       "    </tr>\n",
       "  </tbody>\n",
       "</table>\n",
       "</div>"
      ]
     },
     "execution_count": 20,
     "metadata": {},
     "output_type": "execute_result"
    }
   ],
   "execution_count": 20
  },
  {
   "cell_type": "markdown",
   "metadata": {},
   "source": [
    "### Find all doctors who treated patients with a specific illness\n",
    "\n",
    "This block defines and executes a Cypher query that finds all doctors who have treated patients diagnosed with the illness “Breast Cancer.” It uses the TREATS relationship between Doctor and Patient, and the HAS relationship between Patient and Illness, filtering the results to only include cases where the illness is “Breast Cancer.” The query returns a distinct list of doctor names. The results are then passed to the `test_query()` helper function for execution and formatted display. This test helps verify that the graph correctly represents treatment relationships between doctors and patients for a specific illness."
   ]
  },
  {
   "cell_type": "code",
   "metadata": {
    "ExecuteTime": {
     "end_time": "2025-04-22T15:09:33.280834Z",
     "start_time": "2025-04-22T15:09:33.232914Z"
    }
   },
   "source": [
    "# define query to get all symptoms of a specific illness\n",
    "query = \"\"\" \n",
    "MATCH (d:Doctor)-[:TREATS]->(p:Patient)-[:HAS]->(i:Illness)\n",
    "WHERE i.name = 'Breast Cancer'\n",
    "RETURN DISTINCT d.name\n",
    "\"\"\"\n",
    "\n",
    "# call the function to run the test of the specified query\n",
    "test_query(query=query, graph=graph)"
   ],
   "outputs": [
    {
     "name": "stdout",
     "output_type": "stream",
     "text": [
      "Average execution time: 0.000434150419987418 seconds\n"
     ]
    },
    {
     "data": {
      "text/plain": [
       "             d.name\n",
       "0  Dr. Olivia Brown"
      ],
      "text/html": [
       "<div>\n",
       "<style scoped>\n",
       "    .dataframe tbody tr th:only-of-type {\n",
       "        vertical-align: middle;\n",
       "    }\n",
       "\n",
       "    .dataframe tbody tr th {\n",
       "        vertical-align: top;\n",
       "    }\n",
       "\n",
       "    .dataframe thead th {\n",
       "        text-align: right;\n",
       "    }\n",
       "</style>\n",
       "<table border=\"1\" class=\"dataframe\">\n",
       "  <thead>\n",
       "    <tr style=\"text-align: right;\">\n",
       "      <th></th>\n",
       "      <th>d.name</th>\n",
       "    </tr>\n",
       "  </thead>\n",
       "  <tbody>\n",
       "    <tr>\n",
       "      <th>0</th>\n",
       "      <td>Dr. Olivia Brown</td>\n",
       "    </tr>\n",
       "  </tbody>\n",
       "</table>\n",
       "</div>"
      ]
     },
     "execution_count": 21,
     "metadata": {},
     "output_type": "execute_result"
    }
   ],
   "execution_count": 21
  },
  {
   "cell_type": "markdown",
   "metadata": {},
   "source": [
    "### List illnesses that share at least one symptom\n",
    "\n",
    "This block defines and executes a Cypher query that identifies pairs of illnesses sharing at least one common symptom. It does this by matching two different Illness nodes that are both connected to the same Symptom node via the SYMPTOM_OF relationship. The WHERE clause ensures that the illnesses compared are not the same. The query returns a distinct list of illness pairs along with the name of the shared symptom. This is useful for analyzing symptom overlap between different conditions, which can support differential diagnosis or uncover related health issues."
   ]
  },
  {
   "cell_type": "code",
   "metadata": {
    "ExecuteTime": {
     "end_time": "2025-04-22T15:09:33.518240Z",
     "start_time": "2025-04-22T15:09:33.400788Z"
    }
   },
   "source": [
    "# define query to get all symptoms of a specific illness\n",
    "query = \"\"\" \n",
    "MATCH (i1:Illness)<-[:SYMPTOM_OF]-(s:Symptom)-[:SYMPTOM_OF]->(i2:Illness)\n",
    "WHERE i1.name <> i2.name\n",
    "RETURN DISTINCT i1.name AS Illness1, i2.name AS Illness2, s.name AS SharedSymptom\n",
    "\"\"\"\n",
    "\n",
    "# call the function to run the test of the specified query\n",
    "test_query(query=query, graph=graph)"
   ],
   "outputs": [
    {
     "name": "stdout",
     "output_type": "stream",
     "text": [
      "Average execution time: 0.0011210779199973331 seconds\n"
     ]
    },
    {
     "data": {
      "text/plain": [
       "                      Illness1                    Illness2   SharedSymptom\n",
       "0   Prosthetic Joint Infection          Acute Otitis Media           Fever\n",
       "1       Varicella (Chickenpox)          Acute Otitis Media           Fever\n",
       "2            Colorectal Cancer                Appendicitis  Abdominal Pain\n",
       "3       Varicella (Chickenpox)           Atopic Dermatitis      Itchy Rash\n",
       "4                 Appendicitis           Colorectal Cancer  Abdominal Pain\n",
       "5           Pulmonary Embolism      Ischemic Heart Disease      Chest Pain\n",
       "6           Acute Otitis Media  Prosthetic Joint Infection           Fever\n",
       "7       Varicella (Chickenpox)  Prosthetic Joint Infection           Fever\n",
       "8       Ischemic Heart Disease          Pulmonary Embolism      Chest Pain\n",
       "9           Acute Otitis Media      Varicella (Chickenpox)           Fever\n",
       "10  Prosthetic Joint Infection      Varicella (Chickenpox)           Fever\n",
       "11           Atopic Dermatitis      Varicella (Chickenpox)      Itchy Rash"
      ],
      "text/html": [
       "<div>\n",
       "<style scoped>\n",
       "    .dataframe tbody tr th:only-of-type {\n",
       "        vertical-align: middle;\n",
       "    }\n",
       "\n",
       "    .dataframe tbody tr th {\n",
       "        vertical-align: top;\n",
       "    }\n",
       "\n",
       "    .dataframe thead th {\n",
       "        text-align: right;\n",
       "    }\n",
       "</style>\n",
       "<table border=\"1\" class=\"dataframe\">\n",
       "  <thead>\n",
       "    <tr style=\"text-align: right;\">\n",
       "      <th></th>\n",
       "      <th>Illness1</th>\n",
       "      <th>Illness2</th>\n",
       "      <th>SharedSymptom</th>\n",
       "    </tr>\n",
       "  </thead>\n",
       "  <tbody>\n",
       "    <tr>\n",
       "      <th>0</th>\n",
       "      <td>Prosthetic Joint Infection</td>\n",
       "      <td>Acute Otitis Media</td>\n",
       "      <td>Fever</td>\n",
       "    </tr>\n",
       "    <tr>\n",
       "      <th>1</th>\n",
       "      <td>Varicella (Chickenpox)</td>\n",
       "      <td>Acute Otitis Media</td>\n",
       "      <td>Fever</td>\n",
       "    </tr>\n",
       "    <tr>\n",
       "      <th>2</th>\n",
       "      <td>Colorectal Cancer</td>\n",
       "      <td>Appendicitis</td>\n",
       "      <td>Abdominal Pain</td>\n",
       "    </tr>\n",
       "    <tr>\n",
       "      <th>3</th>\n",
       "      <td>Varicella (Chickenpox)</td>\n",
       "      <td>Atopic Dermatitis</td>\n",
       "      <td>Itchy Rash</td>\n",
       "    </tr>\n",
       "    <tr>\n",
       "      <th>4</th>\n",
       "      <td>Appendicitis</td>\n",
       "      <td>Colorectal Cancer</td>\n",
       "      <td>Abdominal Pain</td>\n",
       "    </tr>\n",
       "    <tr>\n",
       "      <th>5</th>\n",
       "      <td>Pulmonary Embolism</td>\n",
       "      <td>Ischemic Heart Disease</td>\n",
       "      <td>Chest Pain</td>\n",
       "    </tr>\n",
       "    <tr>\n",
       "      <th>6</th>\n",
       "      <td>Acute Otitis Media</td>\n",
       "      <td>Prosthetic Joint Infection</td>\n",
       "      <td>Fever</td>\n",
       "    </tr>\n",
       "    <tr>\n",
       "      <th>7</th>\n",
       "      <td>Varicella (Chickenpox)</td>\n",
       "      <td>Prosthetic Joint Infection</td>\n",
       "      <td>Fever</td>\n",
       "    </tr>\n",
       "    <tr>\n",
       "      <th>8</th>\n",
       "      <td>Ischemic Heart Disease</td>\n",
       "      <td>Pulmonary Embolism</td>\n",
       "      <td>Chest Pain</td>\n",
       "    </tr>\n",
       "    <tr>\n",
       "      <th>9</th>\n",
       "      <td>Acute Otitis Media</td>\n",
       "      <td>Varicella (Chickenpox)</td>\n",
       "      <td>Fever</td>\n",
       "    </tr>\n",
       "    <tr>\n",
       "      <th>10</th>\n",
       "      <td>Prosthetic Joint Infection</td>\n",
       "      <td>Varicella (Chickenpox)</td>\n",
       "      <td>Fever</td>\n",
       "    </tr>\n",
       "    <tr>\n",
       "      <th>11</th>\n",
       "      <td>Atopic Dermatitis</td>\n",
       "      <td>Varicella (Chickenpox)</td>\n",
       "      <td>Itchy Rash</td>\n",
       "    </tr>\n",
       "  </tbody>\n",
       "</table>\n",
       "</div>"
      ]
     },
     "execution_count": 22,
     "metadata": {},
     "output_type": "execute_result"
    }
   ],
   "execution_count": 22
  },
  {
   "cell_type": "markdown",
   "metadata": {},
   "source": [
    "### Find patients allergic to drugs they were prescribed\n",
    "\n",
    "This block defines and executes a Cypher query that identifies patients who are allergic to the drugs they have been prescribed. It matches Patient nodes connected to both Drug and Allergy nodes, and filters the results to only include cases where the name of the drug matches the name of the allergy. The query returns the patient’s name along with the name of the conflicting drug. The result is passed to the test_query() helper function and stored in a DataFrame. If no such conflicts are found, a message is printed indicating that there are no issues. Otherwise, the DataFrame is displayed, showing all detected medication-allergy conflicts. This test is useful for verifying that the knowledge graph can reveal potentially dangerous medical contradictions."
   ]
  },
  {
   "cell_type": "code",
   "metadata": {
    "ExecuteTime": {
     "end_time": "2025-04-22T15:09:33.703713Z",
     "start_time": "2025-04-22T15:09:33.650390Z"
    }
   },
   "source": [
    "# define query to get all symptoms of a specific illness\n",
    "query = \"\"\" \n",
    "MATCH (p:Patient)-[:TAKES]->(d:Drug),\n",
    "      (p)-[:HAS]->(a:Allergy)\n",
    "WHERE d.name = a.name\n",
    "RETURN p.name AS Patient, d.name AS ConflictMedicament\n",
    "\"\"\"\n",
    "\n",
    "# call the function to run the test of the specified query and store the result in the df variable\n",
    "df = test_query(query=query, graph=graph)\n",
    "\n",
    "# if the length of the dataframe is zero, then print that it's luckily that no patients have a conflict with their drugs\n",
    "# otherwise display the dataframe of the result\n",
    "if len(df) == 0:\n",
    "    print(\"Luckily, no patients have a conflict with their drugs.\")\n",
    "else:\n",
    "    display(df)"
   ],
   "outputs": [
    {
     "name": "stdout",
     "output_type": "stream",
     "text": [
      "Average execution time: 0.0005041716699997778 seconds\n",
      "Luckily, no patients have a conflict with their drugs.\n"
     ]
    }
   ],
   "execution_count": 23
  },
  {
   "cell_type": "markdown",
   "metadata": {},
   "source": [
    "### Find the most common symptom accross all illnesses\n",
    "\n",
    "This block defines and executes a Cypher query to identify the most common symptom across all illnesses in the knowledge graph. It matches Symptom nodes connected to any Illness node through the SYMPTOM_OF relationship. The query counts how many times each symptom occurs, orders the results in descending order by frequency, and returns the symptom with the highest count. This helps identify which symptom is most frequently associated with illnesses, providing insights into prevalent or general indicators of disease within the graph."
   ]
  },
  {
   "cell_type": "code",
   "metadata": {
    "ExecuteTime": {
     "end_time": "2025-04-22T15:09:33.978272Z",
     "start_time": "2025-04-22T15:09:33.834772Z"
    }
   },
   "source": [
    "# define query to get all symptoms of a specific illness\n",
    "query = \"\"\" \n",
    "MATCH (s:Symptom)-[:SYMPTOM_OF]->(:Illness)\n",
    "RETURN s.name, COUNT(*) AS Occurrence\n",
    "ORDER BY Occurrence DESC\n",
    "LIMIT 1\n",
    "\"\"\"\n",
    "\n",
    "# call the function to run the test of the specified query\n",
    "test_query(query=query, graph=graph)"
   ],
   "outputs": [
    {
     "name": "stdout",
     "output_type": "stream",
     "text": [
      "Average execution time: 0.0013444670900025811 seconds\n"
     ]
    },
    {
     "data": {
      "text/plain": [
       "  s.name  Occurrence\n",
       "0  Fever           3"
      ],
      "text/html": [
       "<div>\n",
       "<style scoped>\n",
       "    .dataframe tbody tr th:only-of-type {\n",
       "        vertical-align: middle;\n",
       "    }\n",
       "\n",
       "    .dataframe tbody tr th {\n",
       "        vertical-align: top;\n",
       "    }\n",
       "\n",
       "    .dataframe thead th {\n",
       "        text-align: right;\n",
       "    }\n",
       "</style>\n",
       "<table border=\"1\" class=\"dataframe\">\n",
       "  <thead>\n",
       "    <tr style=\"text-align: right;\">\n",
       "      <th></th>\n",
       "      <th>s.name</th>\n",
       "      <th>Occurrence</th>\n",
       "    </tr>\n",
       "  </thead>\n",
       "  <tbody>\n",
       "    <tr>\n",
       "      <th>0</th>\n",
       "      <td>Fever</td>\n",
       "      <td>3</td>\n",
       "    </tr>\n",
       "  </tbody>\n",
       "</table>\n",
       "</div>"
      ]
     },
     "execution_count": 24,
     "metadata": {},
     "output_type": "execute_result"
    }
   ],
   "execution_count": 24
  },
  {
   "cell_type": "markdown",
   "metadata": {},
   "source": [
    "## Restore database to original state\n",
    "\n",
    "This block resets the Neo4j database and restores it to its original state after all tests have been executed. It begins by calling the reset_db() function to clear all existing data from the database. Then, it re-imports the Excel file that was generated during the export test to restore the graph to its prior structure and content. After restoring the data, the script deletes the exported Excel file to clean up the working directory. Finally, it prints a confirmation message indicating that the file has been deleted and all tests were successfully completed. This ensures the environment is left in a clean and consistent state."
   ]
  },
  {
   "cell_type": "code",
   "metadata": {
    "ExecuteTime": {
     "end_time": "2025-04-22T15:09:38.000043Z",
     "start_time": "2025-04-22T15:09:34.034711Z"
    }
   },
   "source": [
    "# call the function to reset the database\n",
    "reset_db(graph=graph)\n",
    "\n",
    "# get the file which was created during the tests\n",
    "file = pd.ExcelFile(f\"../data/export/export_{current_time}.xlsx\")\n",
    "\n",
    "# if the file was found then import the file in the database\n",
    "if file:\n",
    "    excel_import(excel_file=file, graph=graph)\n",
    "\n",
    "# delete the export file\n",
    "os.remove(f\"../data/export/export_{current_time}.xlsx\")\n",
    "\n",
    "# print status that all files have been deleted and all tests completed successfully\n",
    "print(\"Export file deleted.\")\n",
    "print(colored(\"--- Tests completed successfully. ---\", \"green\"))"
   ],
   "outputs": [
    {
     "name": "stdout",
     "output_type": "stream",
     "text": [
      "\u001B[32mDatabase reset completed\u001B[0m\n",
      "Node worksheets:  ['Doctor', 'Topic', 'SubTopic', 'Illness', 'Symptom', 'Cause', 'Treatment', 'Patient', 'Drug', 'Diagnosis', 'Hospital', 'Allergy', 'Insurance', 'Department']\n",
      "Relationship worksheets:  ['REL_Doctor', 'REL_Topic', 'REL_Illness', 'REL_Symptom', 'REL_Patient', 'REL_Hospital'] \n",
      "\n",
      "Created 10 nodes with the label 'Doctor'\n",
      "Created 10 nodes with the label 'Topic'\n",
      "Created 20 nodes with the label 'SubTopic'\n",
      "Created 30 nodes with the label 'Illness'\n",
      "Created 55 nodes with the label 'Symptom'\n",
      "Created 55 nodes with the label 'Cause'\n",
      "Created 55 nodes with the label 'Treatment'\n",
      "Created 20 nodes with the label 'Patient'\n",
      "Created 60 nodes with the label 'Drug'\n",
      "Created 30 nodes with the label 'Diagnosis'\n",
      "Created 5 nodes with the label 'Hospital'\n",
      "Created 15 nodes with the label 'Allergy'\n",
      "Created 5 nodes with the label 'Insurance'\n",
      "Created 10 nodes with the label 'Department'\n",
      "\u001B[32mAll nodes have been created successfully. In total: 14 node types.\n",
      "\u001B[0m\n",
      "Created 188 relationships from a 'Doctor' node\n",
      "Created 20 relationships from a 'Topic' node\n",
      "Created 150 relationships from a 'Illness' node\n",
      "Created 60 relationships from a 'Symptom' node\n",
      "Created 176 relationships from a 'Patient' node\n",
      "Created 8 relationships from a 'Hospital' node\n",
      "\u001B[32mAll relationships have been created successfully.\n",
      "\u001B[0m\n",
      "Export file deleted.\n",
      "\u001B[32m--- Tests completed successfully. ---\u001B[0m\n"
     ]
    }
   ],
   "execution_count": 25
  },
  {
   "cell_type": "markdown",
   "metadata": {},
   "source": [
    "### Timestamp\n",
    "\n",
    "This block prints the timestamp indicating when the script was executed and displays the total runtime. It uses `time.strftime()` to format the current date and time in the `dd.mm.yyyy hh:mm:ss` format. Then it calculates the total execution time by subtracting the recorded start time from the current time. Finally, it prints the total runtime in seconds, giving the user insight into how long the entire knowledge graph generation process took to complete."
   ]
  },
  {
   "cell_type": "code",
   "metadata": {
    "ExecuteTime": {
     "end_time": "2025-04-22T15:09:38.104291Z",
     "start_time": "2025-04-22T15:09:38.102122Z"
    }
   },
   "source": [
    "# print statement to print when the script was executed\n",
    "print(f\"This script was run on: {time.strftime(\"%d.%m.%Y %H:%M:%S\")}\")\n",
    "\n",
    "# stop the runtime timer\n",
    "end_time = time.time()\n",
    "\n",
    "# calculate the total execution time\n",
    "total_time = end_time - start_time\n",
    "\n",
    "# print the total execution time\n",
    "print(f\"Total execution time: {total_time:.2f} seconds\")"
   ],
   "outputs": [
    {
     "name": "stdout",
     "output_type": "stream",
     "text": [
      "This script was run on: 22.04.2025 17:09:38\n",
      "Total execution time: 6.38 seconds\n"
     ]
    }
   ],
   "execution_count": 26
  }
 ],
 "metadata": {
  "kernelspec": {
   "display_name": "venv",
   "language": "python",
   "name": "python3"
  },
  "language_info": {
   "codemirror_mode": {
    "name": "ipython",
    "version": 3
   },
   "file_extension": ".py",
   "mimetype": "text/x-python",
   "name": "python",
   "nbconvert_exporter": "python",
   "pygments_lexer": "ipython3",
   "version": "3.13.1"
  }
 },
 "nbformat": 4,
 "nbformat_minor": 2
}
