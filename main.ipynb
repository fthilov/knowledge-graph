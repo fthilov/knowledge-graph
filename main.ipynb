{
 "cells": [
  {
   "cell_type": "markdown",
   "metadata": {},
   "source": [
    "### Connect to Neo4j"
   ]
  },
  {
   "cell_type": "code",
   "execution_count": null,
   "metadata": {},
   "outputs": [],
   "source": [
    "# import necessary libraries\n",
    "import pandas as pd\n",
    "from helpers.helper_functions import init_connection, create_worksheet_lists, create_nodes, create_relationships, reset_db\n",
    "\n",
    "# initialize connection to the database\n",
    "graph = init_connection()\n",
    "\n",
    "# define source file path\n",
    "excel_file = pd.ExcelFile(\"data/knowledge_graph.xlsx\")"
   ]
  },
  {
   "cell_type": "markdown",
   "metadata": {},
   "source": [
    "### Reset Knowledge Graph\n",
    "To avoid duplicates in the database the database should be deleted entirely to get a complete new database without any data."
   ]
  },
  {
   "cell_type": "code",
   "execution_count": null,
   "metadata": {},
   "outputs": [],
   "source": [
    "# call the function to reset the datbase\n",
    "reset_db(graph=graph)"
   ]
  },
  {
   "cell_type": "markdown",
   "metadata": {},
   "source": [
    "### Create Worksheet Lists\n",
    "Before we can create the knowledge graph it is necessary to split the worksheets from the excel in Node worksheets and Relationship worksheets because they need to be handled in a different way."
   ]
  },
  {
   "cell_type": "code",
   "execution_count": null,
   "metadata": {},
   "outputs": [],
   "source": [
    "# call function to create nodes and relationships and store them in variables\n",
    "node_worksheets, rel_worksheets = create_worksheet_lists(excel_file=excel_file)"
   ]
  },
  {
   "cell_type": "markdown",
   "metadata": {},
   "source": [
    "### Create Nodes\n",
    "To create all nodes we need to iterate over all node_worksheets we've just created and read the data of each worksheet. "
   ]
  },
  {
   "cell_type": "code",
   "execution_count": null,
   "metadata": {},
   "outputs": [],
   "source": [
    "# call function to create relationships\n",
    "create_nodes(worksheets=node_worksheets, excel_file=excel_file, graph=graph)"
   ]
  },
  {
   "cell_type": "markdown",
   "metadata": {},
   "source": [
    "### Create Relationships\n",
    "To create all relationships we need to iterate over all rel_worksheets we've just created and read the data of each worksheet."
   ]
  },
  {
   "cell_type": "code",
   "execution_count": null,
   "metadata": {},
   "outputs": [],
   "source": [
    "# call function to create relationships\n",
    "create_relationships(worksheets=rel_worksheets, excel_file=excel_file, graph=graph)"
   ]
  }
 ],
 "metadata": {
  "kernelspec": {
   "display_name": "venv",
   "language": "python",
   "name": "python3"
  },
  "language_info": {
   "codemirror_mode": {
    "name": "ipython",
    "version": 3
   },
   "file_extension": ".py",
   "mimetype": "text/x-python",
   "name": "python",
   "nbconvert_exporter": "python",
   "pygments_lexer": "ipython3",
   "version": "3.13.1"
  }
 },
 "nbformat": 4,
 "nbformat_minor": 2
}
