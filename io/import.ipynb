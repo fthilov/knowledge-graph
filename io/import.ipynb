{
 "cells": [
  {
   "cell_type": "markdown",
   "metadata": {},
   "source": [
    "# Import XLSX (Excel)"
   ]
  },
  {
   "cell_type": "code",
   "execution_count": 1,
   "metadata": {},
   "outputs": [
    {
     "name": "stdout",
     "output_type": "stream",
     "text": [
      "Connected to the database\n"
     ]
    }
   ],
   "source": [
    "import pandas as pd\n",
    "from helpers.helper_functions import init_connection, excel_import\n",
    "\n",
    "# run the initialization notebook to connect to the neo4j database\n",
    "graph = init_connection()\n",
    "\n",
    "# define source file path\n",
    "excel_file = pd.ExcelFile(\"../data/import/import_data.xlsx\")"
   ]
  },
  {
   "cell_type": "code",
   "execution_count": 2,
   "metadata": {},
   "outputs": [
    {
     "name": "stdout",
     "output_type": "stream",
     "text": [
      "Node worksheets:  ['Doctor']\n",
      "Relationship worksheets:  ['REL_Doctor'] \n",
      "\n",
      "Created 1 nodes with the label 'Doctor'\n",
      "All nodes have been created successfully. In total:  1  node types.\n",
      "\n",
      "Created 1 relationships from a 'Doctor' node\n",
      "All relationships have been created successfully.\n",
      "\n"
     ]
    }
   ],
   "source": [
    "excel_import(excel_file=excel_file, graph=graph)"
   ]
  }
 ],
 "metadata": {
  "kernelspec": {
   "display_name": "venv",
   "language": "python",
   "name": "python3"
  },
  "language_info": {
   "codemirror_mode": {
    "name": "ipython",
    "version": 3
   },
   "file_extension": ".py",
   "mimetype": "text/x-python",
   "name": "python",
   "nbconvert_exporter": "python",
   "pygments_lexer": "ipython3",
   "version": "3.13.1"
  }
 },
 "nbformat": 4,
 "nbformat_minor": 2
}
