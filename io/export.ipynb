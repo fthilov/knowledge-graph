{
 "cells": [
  {
   "cell_type": "markdown",
   "metadata": {},
   "source": [
    "# Export to XLSX (Excel)"
   ]
  },
  {
   "cell_type": "code",
   "execution_count": null,
   "metadata": {},
   "outputs": [],
   "source": [
    "# import necessary libraries\n",
    "import time\n",
    "import datetime as dt\n",
    "from helpers.helper_functions import init_connection, export_to_excel\n",
    "\n",
    "# run the initialization notebook to connect to the neo4j database\n",
    "graph = init_connection()"
   ]
  },
  {
   "metadata": {},
   "cell_type": "markdown",
   "source": [
    "### Export to Excel\n",
    "\n",
    "This block defines the logic for exporting the contents of the Neo4j knowledge graph to an Excel file. It first sets the relative path where the export file should be saved. Then, it generates a timestamp in the format YYYY-MM-DD_HH-MM-SS to uniquely name the exported file and avoid overwriting previous exports. Finally, it calls the export_to_excel() function, passing in the current timestamp, the active Neo4j graph connection, and the export path. This ensures that the graph data is saved in a structured Excel format for later use, analysis, or documentation."
   ]
  },
  {
   "cell_type": "code",
   "execution_count": null,
   "metadata": {},
   "outputs": [],
   "source": [
    "# define the relative export path\n",
    "export_path = \"../data/export\"\n",
    "\n",
    "# define the current time for the filename\n",
    "current_time = dt.datetime.now().strftime(\"%Y-%m-%d_%H-%M-%S\")\n",
    "\n",
    "# call the export function with the specified parameters\n",
    "export_to_excel(current_time=current_time, graph=graph, export_path=export_path)"
   ]
  },
  {
   "cell_type": "markdown",
   "metadata": {},
   "source": [
    "### Timestamp\n",
    "\n",
    "Print the timestamp when the script was executed."
   ]
  },
  {
   "cell_type": "code",
   "execution_count": null,
   "metadata": {},
   "outputs": [],
   "source": [
    "# print statement to print when the script was executed\n",
    "print(f\"This script was run on: {time.strftime(\"%d.%m.%Y %H:%M:%S\")}\")"
   ]
  }
 ],
 "metadata": {
  "kernelspec": {
   "display_name": "venv",
   "language": "python",
   "name": "python3"
  },
  "language_info": {
   "codemirror_mode": {
    "name": "ipython",
    "version": 3
   },
   "file_extension": ".py",
   "mimetype": "text/x-python",
   "name": "python",
   "nbconvert_exporter": "python",
   "pygments_lexer": "ipython3",
   "version": "3.13.1"
  }
 },
 "nbformat": 4,
 "nbformat_minor": 2
}
