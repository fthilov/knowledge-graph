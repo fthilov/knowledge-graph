{
 "cells": [
  {
   "cell_type": "markdown",
   "metadata": {},
   "source": [
    "# Export to XLSX (Excel)"
   ]
  },
  {
   "cell_type": "code",
   "execution_count": 1,
   "metadata": {},
   "outputs": [
    {
     "name": "stdout",
     "output_type": "stream",
     "text": [
      "Connected to the database\n"
     ]
    }
   ],
   "source": [
    "# import necessary libraries\n",
    "import datetime as dt\n",
    "from helpers.helper_functions import init_connection, export_to_excel\n",
    "\n",
    "# run the initialization notebook to connect to the neo4j database\n",
    "graph = init_connection()"
   ]
  },
  {
   "cell_type": "code",
   "execution_count": 2,
   "metadata": {},
   "outputs": [
    {
     "name": "stdout",
     "output_type": "stream",
     "text": [
      "Export completed. File saved at: ../data/export/export_2025-04-18_18-00-19.xlsx\n"
     ]
    }
   ],
   "source": [
    "export_path = \"../data/export\"\n",
    "\n",
    "# define the current time for the filename\n",
    "current_time = dt.datetime.now().strftime(\"%Y-%m-%d_%H-%M-%S\")\n",
    "\n",
    "export_to_excel(current_time=current_time, graph=graph, export_path=export_path)"
   ]
  }
 ],
 "metadata": {
  "kernelspec": {
   "display_name": "venv",
   "language": "python",
   "name": "python3"
  },
  "language_info": {
   "codemirror_mode": {
    "name": "ipython",
    "version": 3
   },
   "file_extension": ".py",
   "mimetype": "text/x-python",
   "name": "python",
   "nbconvert_exporter": "python",
   "pygments_lexer": "ipython3",
   "version": "3.13.1"
  }
 },
 "nbformat": 4,
 "nbformat_minor": 2
}
