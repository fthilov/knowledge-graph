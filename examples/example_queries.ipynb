{
 "cells": [
  {
   "cell_type": "markdown",
   "metadata": {},
   "source": [
    "# Example queries \n",
    "In the following notebook there will be shown some example queries which could be executed."
   ]
  },
  {
   "cell_type": "code",
   "execution_count": null,
   "metadata": {},
   "outputs": [],
   "source": [
    "# importing necessary libraries\n",
    "import pandas as pd\n",
    "from helpers.helper_functions import init_connection\n",
    "\n",
    "# init connection to the neo4j database\n",
    "graph = init_connection()"
   ]
  },
  {
   "cell_type": "markdown",
   "metadata": {},
   "source": [
    "## Simple Queries"
   ]
  },
  {
   "cell_type": "markdown",
   "metadata": {},
   "source": [
    "### Get Number of Nodes and Relationships"
   ]
  },
  {
   "cell_type": "code",
   "execution_count": null,
   "metadata": {},
   "outputs": [],
   "source": [
    "# query to get the number of nodes in the database\n",
    "query = \"\"\"\n",
    "MATCH (n)\n",
    "RETURN count(n) as node_count\n",
    "\"\"\"\n",
    "result =  graph.run(query).data()\n",
    "print(f\"Number of nodes in the database: {result[0]['node_count']}\")\n",
    "\n",
    "# query to get the number of relationships in the database\n",
    "query = \"\"\"\n",
    "MATCH ()-[r]->()\n",
    "RETURN count(r) as relationship_count\n",
    "\"\"\"\n",
    "result = graph.run(query).data()\n",
    "print(f\"Number of relationships in the database: {result[0]['relationship_count']}\")"
   ]
  },
  {
   "cell_type": "markdown",
   "metadata": {},
   "source": [
    "### Get all Doctors"
   ]
  },
  {
   "cell_type": "code",
   "execution_count": null,
   "metadata": {},
   "outputs": [],
   "source": [
    "# query to get all Doctor nodes\n",
    "query = \"\"\"\n",
    "MATCH (d:Doctor)\n",
    "RETURN d.name as name, d.specialization as specialization, d.yearsOfExperience as years_of_experience, d.contactEmail as contact_email\n",
    "\"\"\"\n",
    "result = graph.run(query).data()\n",
    "print(f\"Number of doctors in the database: {len(result)}\")\n",
    "pd.DataFrame(result)"
   ]
  },
  {
   "cell_type": "markdown",
   "metadata": {},
   "source": [
    "### Get all Illnesses"
   ]
  },
  {
   "cell_type": "code",
   "execution_count": null,
   "metadata": {},
   "outputs": [],
   "source": [
    "# query to get all Illness nodes\n",
    "query = \"\"\"\n",
    "MATCH (i:Illness)\n",
    "RETURN i.name as name, i.ICDCode as ICD_code, i.description as description\n",
    "\"\"\"\n",
    "result = graph.run(query).data()\n",
    "print(f\"Number of illnesses in the database: {len(result)}\")\n",
    "pd.DataFrame(result)"
   ]
  }
 ],
 "metadata": {
  "kernelspec": {
   "display_name": "venv",
   "language": "python",
   "name": "python3"
  },
  "language_info": {
   "codemirror_mode": {
    "name": "ipython",
    "version": 3
   },
   "file_extension": ".py",
   "mimetype": "text/x-python",
   "name": "python",
   "nbconvert_exporter": "python",
   "pygments_lexer": "ipython3",
   "version": "3.13.1"
  }
 },
 "nbformat": 4,
 "nbformat_minor": 2
}
