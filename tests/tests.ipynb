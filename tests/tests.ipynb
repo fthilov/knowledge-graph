{
 "cells": [
  {
   "cell_type": "markdown",
   "metadata": {},
   "source": [
    "# Tests\n",
    "In the following notebook there will be several tests about the source code and the usabilty of the Knowledge Graph. In first place it's required to import all necessary libraries, connect to the database and start the runtime timer."
   ]
  },
  {
   "cell_type": "code",
   "execution_count": null,
   "metadata": {
    "ExecuteTime": {
     "end_time": "2025-04-22T15:29:46.238634Z",
     "start_time": "2025-04-22T15:29:46.211802Z"
    }
   },
   "outputs": [],
   "source": [
    "# importing necessary libraries\n",
    "import os\n",
    "import time\n",
    "import datetime as dt\n",
    "import pandas as pd\n",
    "from termcolor import colored\n",
    "from helpers.helper_functions import init_connection, excel_import, export_to_excel, test_query, reset_db\n",
    "\n",
    "# set up timer for runtime of the script\n",
    "start_time = time.time()\n",
    "\n",
    "# init connection to the neo4j database\n",
    "graph = init_connection()"
   ]
  },
  {
   "cell_type": "markdown",
   "metadata": {},
   "source": [
    "## Functional Tests"
   ]
  },
  {
   "cell_type": "markdown",
   "metadata": {},
   "source": [
    "### Test Creation of Knowledge Graph\n",
    "\n",
    "This block of code verifies that the knowledge graph has been successfully created in the Neo4j database by checking the presence of both nodes and relationships. It begins by executing a Cypher query to count all nodes in the graph using `MATCH (n) RETURN count(n) as node_count`. The result is extracted, and an assertion is made to ensure that at least one node exists. The number of nodes is then printed to provide feedback.\n",
    "\n",
    "Next, the code performs a similar check for relationships. It runs the query `MATCH ()-[r]->() RETURN count(r) as relationship_count` to count all relationships in the database. Again, it asserts that there is at least one relationship present, and finally prints the number of relationships. These checks serve as a fundamental validation that the graph was populated and structured correctly, forming the foundation for all subsequent operations and tests."
   ]
  },
  {
   "cell_type": "code",
   "execution_count": null,
   "metadata": {
    "ExecuteTime": {
     "end_time": "2025-04-22T15:29:46.260066Z",
     "start_time": "2025-04-22T15:29:46.254233Z"
    }
   },
   "outputs": [],
   "source": [
    "# query to get the number of nodes in the database\n",
    "query_node_count = \"\"\"\n",
    "MATCH (n)\n",
    "RETURN count(n) as node_count\n",
    "\"\"\"\n",
    "\n",
    "# run the query and get the data of the result\n",
    "node_result =  graph.run(query_node_count).data()\n",
    "# extract the number of nodes from the result\n",
    "number_of_nodes = node_result[0]['node_count']\n",
    "\n",
    "# assert the number of nodes is at least 1\n",
    "assert(number_of_nodes > 0)\n",
    "\n",
    "# print the number of nodes\n",
    "print(f\"Number of nodes in the database: {number_of_nodes}\")\n",
    "\n",
    "\n",
    "# query to get the number of relationships in the database\n",
    "query_node_count = \"\"\"\n",
    "MATCH ()-[r]->()\n",
    "RETURN count(r) as relationship_count\n",
    "\"\"\"\n",
    "\n",
    "# run the query and get the data of the result\n",
    "node_result = graph.run(query_node_count).data()\n",
    "# extract the number of relationships from the result\n",
    "number_of_rels = node_result[0]['relationship_count']\n",
    "\n",
    "# assert the number of relationships is at least 1\n",
    "assert(number_of_rels > 0)\n",
    "\n",
    "# print the number of relationships\n",
    "print(f\"Number of relationships in the database: {node_result[0]['relationship_count']}\")"
   ]
  },
  {
   "cell_type": "markdown",
   "metadata": {},
   "source": [
    "### Get all Doctors\n",
    "This query returns all doctors and tests if all nodes have a specialization attribute to be sure there are only doctor nodes returned.\n",
    "\n",
    "This block queries all nodes labeled Doctor in the Neo4j database and retrieves their properties, including name, specialization, years of experience and contact email. It ensures that all returned nodes actually represent valid doctors by asserting that each one has a non-empty specialization\n",
    "field. After the validation, it prints the total number of doctor nodes and returns their data in a tabular format using a pandas DataFrame. This\n",
    "allows for easy inspection and verification of the doctor-related data in the graph."
   ]
  },
  {
   "cell_type": "code",
   "execution_count": null,
   "metadata": {
    "ExecuteTime": {
     "end_time": "2025-04-22T15:29:46.303338Z",
     "start_time": "2025-04-22T15:29:46.270060Z"
    }
   },
   "outputs": [],
   "source": [
    "# query to get all Doctor nodes\n",
    "query_node_count = \"\"\"\n",
    "MATCH (d:Doctor)\n",
    "RETURN d.name as name, d.specialization as specialization, d.yearsOfExperience as years_of_experience, d.contactEmail as contact_email\n",
    "\"\"\"\n",
    "\n",
    "# run the query and get the data of the result\n",
    "node_result = graph.run(query_node_count).data()\n",
    "\n",
    "# extract the number of doctors from the result\n",
    "number_of_doctors = len(node_result)\n",
    "\n",
    "# assert that all doctors have a specialization to be sure that there are only doctors returned\n",
    "assert all(doctor['specialization'] for doctor in node_result), node_result\n",
    "\n",
    "# print the number of doctors\n",
    "print(f\"Number of doctors in the database: {number_of_doctors}\")\n",
    "# print the details of the doctors\n",
    "\n",
    "# convert the node result as a dataframe\n",
    "pd.DataFrame(node_result)"
   ]
  },
  {
   "cell_type": "markdown",
   "metadata": {},
   "source": [
    "This is how it would like if you would query all doctors in Neo4j with the following query: \"MATCH (d:Doctors) RETURN d\". The difference is that you return everything from the doctor not just an extraction of information of the node.\n",
    "\n",
    "<img src=\"../img/doctors.png\" height=500 />"
   ]
  },
  {
   "cell_type": "markdown",
   "metadata": {},
   "source": [
    "### Test Export Functionality\n",
    "This block tests whether the export functionality of the knowledge graph works correctly. It starts by counting the number of files currently present in the export directory. Then, it calls the export_to_excel() function, which creates a new Excel file containing the current graph data. After the export is completed, the script recounts the number of files in the directory. It uses an assertion to check that exactly one new file has been created. This confirms that the export process successfully generated and saved a new file representing the graph’s state."
   ]
  },
  {
   "cell_type": "code",
   "execution_count": null,
   "metadata": {
    "ExecuteTime": {
     "end_time": "2025-04-22T15:29:46.512501Z",
     "start_time": "2025-04-22T15:29:46.329329Z"
    }
   },
   "outputs": [],
   "source": [
    "# define the relative export path\n",
    "export_path = \"../data/export\"\n",
    "\n",
    "# number of files in export directory\n",
    "number_of_files = len(os.listdir(export_path))\n",
    "\n",
    "# define the current time for the filename\n",
    "current_time = dt.datetime.now().strftime(\"%Y-%m-%d_%H-%M-%S\")\n",
    "\n",
    "export_to_excel(current_time=current_time, graph=graph, export_path=export_path)\n",
    "\n",
    "# check if the number of files in the export directory has increased\n",
    "number_of_files_after = len(os.listdir(export_path))\n",
    "\n",
    "# assert that the number of files has increased by 1\n",
    "assert number_of_files_after - number_of_files == 1, \"Export failed: no new file created.\""
   ]
  },
  {
   "cell_type": "markdown",
   "metadata": {},
   "source": [
    "### Test Import Functionality\n",
    "This block tests whether the import functionality for the knowledge graph works correctly. It begins by querying and recording the current number of nodes and relationships in the Neo4j database. Then, it loads an Excel file containing additional graph data and imports that data into the graph using the excel_import() function. After the import process, the script again queries the database to count the updated number of nodes and relationships. It uses assertions to verify that both counts have increased, confirming that the import operation successfully added new data to the graph."
   ]
  },
  {
   "cell_type": "code",
   "execution_count": null,
   "metadata": {
    "ExecuteTime": {
     "end_time": "2025-04-22T15:29:46.597961Z",
     "start_time": "2025-04-22T15:29:46.539767Z"
    }
   },
   "outputs": [],
   "source": [
    "# query to get the number of current nodes\n",
    "query_node_count = \"\"\"\n",
    "MATCH (n)\n",
    "RETURN count(n) as node_count\n",
    "\"\"\"\n",
    "# query to get the number of current relationships\n",
    "query_rel_count = \"\"\"\n",
    "MATCH ()-[r]->()\n",
    "RETURN count(r) as relationship_count\n",
    "\"\"\"\n",
    "\n",
    "# run the query and get the data of the result\n",
    "node_result = graph.run(query_node_count).data()\n",
    "# run the query and get the data of the result\n",
    "rel_result = graph.run(query_rel_count).data()\n",
    "\n",
    "# extract the number of nodes from the result\n",
    "number_of_nodes = node_result[0]['node_count']\n",
    "# extract the number of relationships from the result\n",
    "number_of_rels = rel_result[0]['relationship_count']\n",
    "\n",
    "# define the excel file path\n",
    "import_file = pd.ExcelFile(\"../data/import/import_data.xlsx\")\n",
    "\n",
    "# import the data from the excel file into the database\n",
    "excel_import(excel_file=import_file, graph=graph)\n",
    "\n",
    "# query to get the number of nodes after importing the data\n",
    "after_result = graph.run(query_node_count).data()\n",
    "# query to get the number of relationships after importing the data\n",
    "after_rel_result = graph.run(query_rel_count).data()\n",
    "\n",
    "# extract the number of nodes from the result\n",
    "after_number_of_nodes = after_result[0]['node_count']\n",
    "# extract the number of relationships from the result\n",
    "after_number_of_rels = after_rel_result[0]['relationship_count']\n",
    "\n",
    "# assert that the number of nodes has increased\n",
    "assert after_number_of_nodes > number_of_nodes, f\"Number of nodes before import: {number_of_nodes}, after import: {after_number_of_nodes}\"\n",
    "\n",
    "# assert that the number of relationships has increased\n",
    "assert after_number_of_rels > number_of_rels, f\"Number of relationships before import: {number_of_rels}, after import: {after_number_of_rels}\""
   ]
  },
  {
   "cell_type": "markdown",
   "metadata": {},
   "source": [
    "## Non-functional Tests - Usability Tests"
   ]
  },
  {
   "cell_type": "markdown",
   "metadata": {},
   "source": [
    "### Get all illnesses\n",
    "\n",
    "This block defines and executes a Cypher query that retrieves all nodes labeled as Illness from the Neo4j database. For each illness, it returns key properties such as the illness name, its ICD code, and a description. The `test_query()` helper function is used to run the query and display the results in a readable table format. This helps verify that illness-related data has been correctly imported and structured within the knowledge graph."
   ]
  },
  {
   "cell_type": "code",
   "execution_count": null,
   "metadata": {
    "ExecuteTime": {
     "end_time": "2025-04-22T15:29:46.678514Z",
     "start_time": "2025-04-22T15:29:46.613650Z"
    }
   },
   "outputs": [],
   "source": [
    "# define query to get all illness nodes\n",
    "query = \"\"\"\n",
    "MATCH (i:Illness)\n",
    "RETURN i.name as name, i.ICDCode as ICD_Code, i.description as description\n",
    "\"\"\"\n",
    "\n",
    "# call the function to run the test of the specified query\n",
    "test_query(query=query, graph=graph)"
   ]
  },
  {
   "cell_type": "markdown",
   "metadata": {},
   "source": [
    "This is the view how it would look like in Neo4j (if you return every attribute of the nodes, not just an extraction of them):\n",
    "\n",
    "<img src=\"../img/illnesses.png\" height=500>"
   ]
  },
  {
   "cell_type": "markdown",
   "metadata": {},
   "source": [
    "### Find all symptoms of a specific illness\n",
    "\n",
    "This block defines and executes a Cypher query that retrieves all symptoms associated with the illness named `Migraine`. It matches Symptom nodes connected to an Illness node via the `SYMPTOM_OF` relationship, filtered specifically to cases where the illness name is `Migraine`. The query returns the name of each symptom found. The result is passed to the `test_query()` helper function, which executes the query and formats the output for display. This helps confirm that the symptom-illness relationships for `Migraine` are correctly stored in the graph."
   ]
  },
  {
   "cell_type": "code",
   "execution_count": null,
   "metadata": {
    "ExecuteTime": {
     "end_time": "2025-04-22T15:29:46.758277Z",
     "start_time": "2025-04-22T15:29:46.703696Z"
    }
   },
   "outputs": [],
   "source": [
    "# define query to get all symptoms of a specific illness\n",
    "query = \"\"\" \n",
    "MATCH (s:Symptom)-[r:SYMPTOM_OF]->(i:Illness) \n",
    "WHERE i.name = 'Migraine'\n",
    "RETURN s.name as symptom\n",
    "\"\"\"\n",
    "\n",
    "# call the function to run the test of the specified query\n",
    "test_query(query=query, graph=graph)"
   ]
  },
  {
   "cell_type": "markdown",
   "metadata": {},
   "source": [
    "This is the view how it would look like in Neo4j (if you return every attribute of the nodes, not just an extraction of them):\n",
    "\n",
    "<img src=\"../img/specific_symptoms.png\" height=500>"
   ]
  },
  {
   "cell_type": "markdown",
   "metadata": {},
   "source": [
    "### Find all doctors who treated patients with a specific illness\n",
    "\n",
    "This block defines and executes a Cypher query that finds all doctors who have treated patients diagnosed with the illness “Breast Cancer.” It uses the TREATS relationship between Doctor and Patient, and the HAS relationship between Patient and Illness, filtering the results to only include cases where the illness is “Breast Cancer.” The query returns a distinct list of doctor names. The results are then passed to the `test_query()` helper function for execution and formatted display. This test helps verify that the graph correctly represents treatment relationships between doctors and patients for a specific illness."
   ]
  },
  {
   "cell_type": "code",
   "execution_count": null,
   "metadata": {
    "ExecuteTime": {
     "end_time": "2025-04-22T15:29:46.876467Z",
     "start_time": "2025-04-22T15:29:46.826083Z"
    }
   },
   "outputs": [],
   "source": [
    "# define query to get all symptoms of a specific illness\n",
    "query = \"\"\" \n",
    "MATCH (d:Doctor)-[:TREATS]->(p:Patient)-[:HAS]->(i:Illness)\n",
    "WHERE i.name = 'Breast Cancer'\n",
    "RETURN DISTINCT d.name\n",
    "\"\"\"\n",
    "\n",
    "# call the function to run the test of the specified query\n",
    "test_query(query=query, graph=graph)"
   ]
  },
  {
   "cell_type": "markdown",
   "metadata": {},
   "source": [
    "This is the view how it would look like in Neo4j (if you return every attribute of the nodes, not just an extraction of them):\n",
    "\n",
    "<img src=\"../img/specific_doctors.png\" height=500>"
   ]
  },
  {
   "cell_type": "markdown",
   "metadata": {},
   "source": [
    "### List illnesses that share at least one symptom\n",
    "\n",
    "This block defines and executes a Cypher query that identifies pairs of illnesses sharing at least one common symptom. It does this by matching two different Illness nodes that are both connected to the same Symptom node via the SYMPTOM_OF relationship. The WHERE clause ensures that the illnesses compared are not the same. The query returns a distinct list of illness pairs along with the name of the shared symptom. This is useful for analyzing symptom overlap between different conditions, which can support differential diagnosis or uncover related health issues."
   ]
  },
  {
   "cell_type": "code",
   "execution_count": null,
   "metadata": {
    "ExecuteTime": {
     "end_time": "2025-04-22T15:29:47.062869Z",
     "start_time": "2025-04-22T15:29:46.928240Z"
    }
   },
   "outputs": [],
   "source": [
    "# define query to get all symptoms of a specific illness\n",
    "query = \"\"\" \n",
    "MATCH (i1:Illness)<-[:SYMPTOM_OF]-(s:Symptom)-[:SYMPTOM_OF]->(i2:Illness)\n",
    "WHERE i1.name <> i2.name\n",
    "RETURN DISTINCT i1.name AS Illness1, i2.name AS Illness2, s.name AS SharedSymptom\n",
    "\"\"\"\n",
    "\n",
    "# call the function to run the test of the specified query\n",
    "test_query(query=query, graph=graph)"
   ]
  },
  {
   "cell_type": "markdown",
   "metadata": {},
   "source": [
    "This is the view how it would look like in Neo4j (if you return every attribute of the nodes, not just an extraction of them):\n",
    "\n",
    "<img src=\"../img/specific_illnesses.png\" height=500>"
   ]
  },
  {
   "cell_type": "markdown",
   "metadata": {},
   "source": [
    "### Find patients allergic to drugs they were prescribed\n",
    "\n",
    "This block defines and executes a Cypher query that identifies patients who are allergic to the drugs they have been prescribed. It matches Patient nodes connected to both Drug and Allergy nodes, and filters the results to only include cases where the name of the drug matches the name of the allergy. The query returns the patient’s name along with the name of the conflicting drug. The result is passed to the test_query() helper function and stored in a DataFrame. If no such conflicts are found, a message is printed indicating that there are no issues. Otherwise, the DataFrame is displayed, showing all detected medication-allergy conflicts. This test is useful for verifying that the knowledge graph can reveal potentially dangerous medical contradictions."
   ]
  },
  {
   "cell_type": "code",
   "execution_count": null,
   "metadata": {
    "ExecuteTime": {
     "end_time": "2025-04-22T15:29:47.147912Z",
     "start_time": "2025-04-22T15:29:47.110248Z"
    }
   },
   "outputs": [],
   "source": [
    "# define query to get all symptoms of a specific illness\n",
    "query = \"\"\" \n",
    "MATCH (p:Patient)-[:TAKES]->(d:Drug),\n",
    "      (p)-[:HAS]->(a:Allergy)\n",
    "WHERE d.name = a.name\n",
    "RETURN p.name AS Patient, d.name AS ConflictMedicament\n",
    "\"\"\"\n",
    "\n",
    "# call the function to run the test of the specified query and store the result in the df variable\n",
    "df = test_query(query=query, graph=graph)\n",
    "\n",
    "# if the length of the dataframe is zero, then print that it's luckily that no patients have a conflict with their drugs\n",
    "# otherwise display the dataframe of the result\n",
    "if len(df) == 0:\n",
    "    print(\"Luckily, no patients have a conflict with their drugs.\")\n",
    "else:\n",
    "    display(df)"
   ]
  },
  {
   "cell_type": "markdown",
   "metadata": {},
   "source": [
    "This is the view how it would look like in Neo4j (if you return every attribute of the nodes, not just an extraction of them):\n",
    "\n",
    "<img src=\"../img/no_result.png\" height=100>"
   ]
  },
  {
   "cell_type": "markdown",
   "metadata": {},
   "source": [
    "### Find the most common symptom accross all illnesses\n",
    "\n",
    "This block defines and executes a Cypher query to identify the most common symptom across all illnesses in the knowledge graph. It matches Symptom nodes connected to any Illness node through the SYMPTOM_OF relationship. The query counts how many times each symptom occurs, orders the results in descending order by frequency, and returns the symptom with the highest count. This helps identify which symptom is most frequently associated with illnesses, providing insights into prevalent or general indicators of disease within the graph."
   ]
  },
  {
   "cell_type": "code",
   "execution_count": null,
   "metadata": {
    "ExecuteTime": {
     "end_time": "2025-04-22T15:29:47.232729Z",
     "start_time": "2025-04-22T15:29:47.181573Z"
    }
   },
   "outputs": [],
   "source": [
    "# define query to get all symptoms of a specific illness\n",
    "query = \"\"\" \n",
    "MATCH (s:Symptom)-[:SYMPTOM_OF]->(:Illness)\n",
    "RETURN s.name, COUNT(*) AS Occurrence\n",
    "ORDER BY Occurrence DESC\n",
    "LIMIT 1\n",
    "\"\"\"\n",
    "\n",
    "# call the function to run the test of the specified query\n",
    "test_query(query=query, graph=graph)"
   ]
  },
  {
   "cell_type": "markdown",
   "metadata": {},
   "source": [
    "This is the view how it would look like in Neo4j (if you return every attribute of the nodes, not just an extraction of them):\n",
    "\n",
    "<img src=\"../img/most_common_symptom.png\" height=500>"
   ]
  },
  {
   "cell_type": "markdown",
   "metadata": {},
   "source": [
    "## Restore database to original state\n",
    "\n",
    "This block resets the Neo4j database and restores it to its original state after all tests have been executed. It begins by calling the reset_db() function to clear all existing data from the database. Then, it re-imports the Excel file that was generated during the export test to restore the graph to its prior structure and content. After restoring the data, the script deletes the exported Excel file to clean up the working directory. Finally, it prints a confirmation message indicating that the file has been deleted and all tests were successfully completed. This ensures the environment is left in a clean and consistent state."
   ]
  },
  {
   "cell_type": "code",
   "execution_count": null,
   "metadata": {
    "ExecuteTime": {
     "end_time": "2025-04-22T15:29:51.746285Z",
     "start_time": "2025-04-22T15:29:47.290535Z"
    }
   },
   "outputs": [],
   "source": [
    "# call the function to reset the database\n",
    "reset_db(graph=graph)\n",
    "\n",
    "# get the file which was created during the tests\n",
    "file = pd.ExcelFile(f\"../data/export/export_{current_time}.xlsx\")\n",
    "\n",
    "# if the file was found then import the file in the database\n",
    "if file:\n",
    "    excel_import(excel_file=file, graph=graph)\n",
    "\n",
    "# delete the export file\n",
    "os.remove(f\"../data/export/export_{current_time}.xlsx\")\n",
    "\n",
    "# print status that all files have been deleted and all tests completed successfully\n",
    "print(\"Export file deleted.\")\n",
    "print(colored(\"--- Tests completed successfully. ---\", \"green\"))"
   ]
  },
  {
   "cell_type": "markdown",
   "metadata": {},
   "source": [
    "### Timestamp\n",
    "\n",
    "This block prints the timestamp indicating when the script was executed and displays the total runtime. It uses `time.strftime()` to format the current date and time in the `dd.mm.yyyy hh:mm:ss` format. Then it calculates the total execution time by subtracting the recorded start time from the current time. Finally, it prints the total runtime in seconds, giving the user insight into how long the entire knowledge graph generation process took to complete."
   ]
  },
  {
   "cell_type": "code",
   "execution_count": null,
   "metadata": {
    "ExecuteTime": {
     "end_time": "2025-04-22T15:29:51.796034Z",
     "start_time": "2025-04-22T15:29:51.793623Z"
    }
   },
   "outputs": [],
   "source": [
    "# print statement to print when the script was executed\n",
    "print(f\"This script was run on: {time.strftime(\"%d.%m.%Y %H:%M:%S\")}\")\n",
    "\n",
    "# stop the runtime timer\n",
    "end_time = time.time()\n",
    "\n",
    "# calculate the total execution time\n",
    "total_time = end_time - start_time\n",
    "\n",
    "# print the total execution time\n",
    "print(f\"Total execution time: {total_time:.2f} seconds\")"
   ]
  }
 ],
 "metadata": {
  "kernelspec": {
   "display_name": "venv",
   "language": "python",
   "name": "python3"
  },
  "language_info": {
   "codemirror_mode": {
    "name": "ipython",
    "version": 3
   },
   "file_extension": ".py",
   "mimetype": "text/x-python",
   "name": "python",
   "nbconvert_exporter": "python",
   "pygments_lexer": "ipython3",
   "version": "3.13.1"
  }
 },
 "nbformat": 4,
 "nbformat_minor": 2
}
