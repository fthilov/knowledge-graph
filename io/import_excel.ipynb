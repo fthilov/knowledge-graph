{
 "cells": [
  {
   "cell_type": "markdown",
   "metadata": {},
   "source": [
    "# Import XLSX (Excel)"
   ]
  },
  {
   "cell_type": "code",
   "execution_count": null,
   "metadata": {},
   "outputs": [],
   "source": [
    "import pandas as pd\n",
    "from helpers.helper_functions import init_connection, create_worksheet_lists, create_nodes, create_relationships\n",
    "\n",
    "# run the initialization notebook to connect to the neo4j database\n",
    "graph = init_connection()\n",
    "\n",
    "# define source file path\n",
    "source_file_path = pd.ExcelFile(\"data/import/import_data.xlsx\")"
   ]
  },
  {
   "cell_type": "code",
   "execution_count": 2,
   "metadata": {},
   "outputs": [],
   "source": [
    "def excel_import():\n",
    "    node_worksheets, rel_worksheets = create_worksheet_lists(file_path=source_file_path)\n",
    "    \n",
    "    create_nodes(worksheets=node_worksheets, file_path=source_file_path, graph=graph)\n",
    "\n",
    "    create_relationships(worksheets=rel_worksheets, file_path=source_file_path, graph=graph)"
   ]
  },
  {
   "cell_type": "code",
   "execution_count": null,
   "metadata": {},
   "outputs": [],
   "source": [
    "excel_import()"
   ]
  }
 ],
 "metadata": {
  "kernelspec": {
   "display_name": "venv",
   "language": "python",
   "name": "python3"
  },
  "language_info": {
   "codemirror_mode": {
    "name": "ipython",
    "version": 3
   },
   "file_extension": ".py",
   "mimetype": "text/x-python",
   "name": "python",
   "nbconvert_exporter": "python",
   "pygments_lexer": "ipython3",
   "version": "3.13.1"
  }
 },
 "nbformat": 4,
 "nbformat_minor": 2
}
