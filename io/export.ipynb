{
 "cells": [
  {
   "cell_type": "markdown",
   "metadata": {},
   "source": [
    "# Export to XLSX (Excel)"
   ]
  },
  {
   "cell_type": "code",
   "metadata": {
    "ExecuteTime": {
     "end_time": "2025-04-22T15:29:19.570787Z",
     "start_time": "2025-04-22T15:29:19.201386Z"
    }
   },
   "source": [
    "# import necessary libraries\n",
    "import time\n",
    "import datetime as dt\n",
    "from helpers.helper_functions import init_connection, export_to_excel\n",
    "\n",
    "# set up timer for runtime of the script\n",
    "start_time = time.time()\n",
    "\n",
    "# run the initialization notebook to connect to the neo4j database\n",
    "graph = init_connection()"
   ],
   "outputs": [
    {
     "name": "stdout",
     "output_type": "stream",
     "text": [
      "Connected to the database\n"
     ]
    }
   ],
   "execution_count": 1
  },
  {
   "metadata": {},
   "cell_type": "markdown",
   "source": [
    "### Export to Excel\n",
    "\n",
    "This block defines the logic for exporting the contents of the Neo4j knowledge graph to an Excel file. It first sets the relative path where the export file should be saved. Then, it generates a timestamp in the format YYYY-MM-DD_HH-MM-SS to uniquely name the exported file and avoid overwriting previous exports. Finally, it calls the export_to_excel() function, passing in the current timestamp, the active Neo4j graph connection, and the export path. This ensures that the graph data is saved in a structured Excel format for later use, analysis, or documentation."
   ]
  },
  {
   "cell_type": "code",
   "metadata": {
    "ExecuteTime": {
     "end_time": "2025-04-22T15:29:19.869231Z",
     "start_time": "2025-04-22T15:29:19.618357Z"
    }
   },
   "source": [
    "# define the relative export path\n",
    "export_path = \"../data/export\"\n",
    "\n",
    "# define the current time for the filename\n",
    "current_time = dt.datetime.now().strftime(\"%Y-%m-%d_%H-%M-%S\")\n",
    "\n",
    "# call the export function with the specified parameters\n",
    "export_to_excel(current_time=current_time, graph=graph, export_path=export_path)"
   ],
   "outputs": [
    {
     "name": "stdout",
     "output_type": "stream",
     "text": [
      "\u001B[32mExport completed. File saved at: ../data/export/export_2025-04-22_17-29-19.xlsx\u001B[0m\n"
     ]
    }
   ],
   "execution_count": 2
  },
  {
   "cell_type": "markdown",
   "metadata": {},
   "source": [
    "### Timestamp\n",
    "\n",
    "This block prints the timestamp indicating when the script was executed and displays the total runtime. It uses `time.strftime()` to format the current date and time in the `dd.mm.yyyy hh:mm:ss` format. Then it calculates the total execution time by subtracting the recorded start time from the current time. Finally, it prints the total runtime in seconds, giving the user insight into how long the entire knowledge graph generation process took to complete."
   ]
  },
  {
   "cell_type": "code",
   "metadata": {
    "ExecuteTime": {
     "end_time": "2025-04-22T15:29:19.881904Z",
     "start_time": "2025-04-22T15:29:19.879909Z"
    }
   },
   "source": [
    "# print statement to print when the script was executed\n",
    "print(f\"This script was run on: {time.strftime(\"%d.%m.%Y %H:%M:%S\")}\")\n",
    "\n",
    "# stop the runtime timer\n",
    "end_time = time.time()\n",
    "\n",
    "# calculate the total execution time\n",
    "total_time = end_time - start_time\n",
    "\n",
    "# print the total execution time\n",
    "print(f\"Total execution time: {total_time:.2f} seconds\")"
   ],
   "outputs": [
    {
     "name": "stdout",
     "output_type": "stream",
     "text": [
      "This script was run on: 22.04.2025 17:29:19\n",
      "Total execution time: 0.35 seconds\n"
     ]
    }
   ],
   "execution_count": 3
  }
 ],
 "metadata": {
  "kernelspec": {
   "display_name": "venv",
   "language": "python",
   "name": "python3"
  },
  "language_info": {
   "codemirror_mode": {
    "name": "ipython",
    "version": 3
   },
   "file_extension": ".py",
   "mimetype": "text/x-python",
   "name": "python",
   "nbconvert_exporter": "python",
   "pygments_lexer": "ipython3",
   "version": "3.13.1"
  }
 },
 "nbformat": 4,
 "nbformat_minor": 2
}
