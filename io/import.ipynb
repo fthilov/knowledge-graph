{
 "cells": [
  {
   "cell_type": "markdown",
   "metadata": {},
   "source": [
    "# Import XLSX (Excel)"
   ]
  },
  {
   "cell_type": "code",
   "execution_count": null,
   "metadata": {},
   "outputs": [],
   "source": [
    "import time\n",
    "import pandas as pd\n",
    "from helpers.helper_functions import init_connection, excel_import\n",
    "\n",
    "# run the initialization notebook to connect to the neo4j database\n",
    "graph = init_connection()"
   ]
  },
  {
   "metadata": {},
   "cell_type": "markdown",
   "source": [
    "### Import to Excel\n",
    "\n",
    "This block defines the source path for the Excel file that contains the data to be imported into the Neo4j knowledge graph. It uses pandas.ExcelFile() to load the workbook located at ../data/import/import_data.xlsx. Once the file is loaded, it calls the excel_import() function, passing in the Excel file and the active Neo4j graph connection. The function handles reading the contents of the Excel sheets and creating the corresponding nodes and relationships in the database. This step is essential for populating the graph with new data from external sources."
   ]
  },
  {
   "cell_type": "code",
   "execution_count": null,
   "metadata": {},
   "outputs": [],
   "source": [
    "# define source file path\n",
    "excel_file = pd.ExcelFile(\"../data/import/import_data.xlsx\")\n",
    "\n",
    "# call the import function with the specified parameters\n",
    "excel_import(excel_file=excel_file, graph=graph)"
   ]
  },
  {
   "cell_type": "markdown",
   "metadata": {},
   "source": [
    "### Timestamp\n",
    "Print the timestamp when the script was executed."
   ]
  },
  {
   "cell_type": "code",
   "execution_count": null,
   "metadata": {},
   "outputs": [],
   "source": [
    "# print statement to print when the script was executed\n",
    "print(f\"This script was run on: {time.strftime(\"%d.%m.%Y %H:%M:%S\")}\")"
   ]
  }
 ],
 "metadata": {
  "kernelspec": {
   "display_name": "venv",
   "language": "python",
   "name": "python3"
  },
  "language_info": {
   "codemirror_mode": {
    "name": "ipython",
    "version": 3
   },
   "file_extension": ".py",
   "mimetype": "text/x-python",
   "name": "python",
   "nbconvert_exporter": "python",
   "pygments_lexer": "ipython3",
   "version": "3.13.1"
  }
 },
 "nbformat": 4,
 "nbformat_minor": 2
}
